{
 "cells": [
  {
   "cell_type": "markdown",
   "metadata": {},
   "source": [
    "# 데이터분석과 R \n",
    "### Term Project\n",
    "<pre>\n",
    "산업정보시스템공학과 201510336\n",
    "구경민\n",
    "</pre>"
   ]
  },
  {
   "cell_type": "markdown",
   "metadata": {},
   "source": [
    "## 목차\n",
    "<pre style = \"font-weight: bold\">\n",
    "1. Solar flare datasets\n",
    "2. Pre-processing & EDA  \n",
    "3. Modeling\n",
    "4. Conclusion\n",
    "</pre>"
   ]
  },
  {
   "cell_type": "markdown",
   "metadata": {},
   "source": [
    "# 1. Solar flare datasets\n",
    "<pre>\n",
    "1.1 solar flare\n",
    " solar flare는 태양 흑점 근처에서 방출되는 복사 강도의 단기간동안 갑작스런 증가현상이다. solar flare는 수년 동안 H- 알파 파장에서 가장 잘 모니터링되었으며, 가끔 광구에서 백색광 플레어가 보이지만 색층에서 발생한다. 현대에서는 solar flare에 대해 위성을 통해 태양 X- 선 파장을 모니터링한다. flare는 몇 분 정도의 상승 시간과 수십 분 정도의 감쇠 시간이 특징이다. 일반적인 플레어에서 소비되는 총 에너지는 약 1030 에르그이며, 자기장은 100 ~ 10,000 가우스의 값에 도달하는 매우 높은 수준이다. H- 알파의 광학 플레어는 일반적으로 무선 및 X- 선 폭발을 동반하며 때로는 고 에너지 입자 방출을 동반한다.\n",
    " flare의 광학 밝기와 크기는 \"중요도\"라는 두 문자 코드로 표시된다. 첫 번째 문자 인 1에서 4까지의 숫자는 명백한 영역을 나타낸다. 1보다 작은 영역의 경우 \"S\"가 하위 플레어를 지정하는 데 사용된다. 두 번째 문자는 상대적 밝기를 나타낸다. B는 밝음, N은 보통, F는 희미 함을 나타낸다. 이번 텀 프로젝트를 통해 solar flare로 인해 지구에 피해를 입었는지와 태양의 활동에 따른 흑점의 크기를 구분하는 모델을 만들어 태양의 활동을 파악해보려고 한다. \n",
    "\n",
    "1.2 Dataset 설명\n",
    "flare 데이터는 2개의 데이터로 나뉘어져 있고(flare1, flare2) 여기서는 데이터변수를 flare1을 1969년 데이터라는 뜻으로 falre69, flare2 1978년 데이터라는 뜻으로 flare78이라고 명명한다. 이중 1978년도 데이터(flare78)는 오류수정이 된 데이터라 신뢰성이 있다. 그리고 각 instance는 태양의 1번 활동 영역 1개에 대한 feature다.\n",
    "\n",
    "1.3 Attribute 설명\n",
    "Class: Code for class (modified Zurich class), A,B,C,D,E,F,H로 구성\n",
    "LSP: Code for largest spot size, X,R,S,A,H,K로 구성\n",
    "SD: Code for spot distribution, X,O,I,C로 구성\n",
    "Activity: 1 = reduced, 2 = unchanged\n",
    "Evoluation: 1 = decay, 2 = no growth, 3 = growth\n",
    "Activity24: Previous 24 hour flare activity code (1 = nothing as big as an M1, 2 = one M1, 3 = more activity than one M1)\n",
    "HC: Historically-complex (1 = Yes, 2 = No)\n",
    "RHC: Did region become historically complex  (1 = yes, 2 = no) on this pass across the sun's disk\n",
    "Area: 1 = small, 2 = large\n",
    "ALS: Area of the largest spot (1 = <=5, 2 = >5)\n",
    "아래는 추가변수들이다.\n",
    "C_class: C-class flares production by this region in the following 24 hours (common flares); Number\n",
    "M_class: M-class flares production by this region in the following 24 hours (moderate flares); Number\n",
    "X_class: X-class flares production by this region in the following 24 hours (severe flares); Number\n",
    "\n",
    "</pre>"
   ]
  },
  {
   "cell_type": "code",
   "execution_count": 1,
   "metadata": {},
   "outputs": [
    {
     "name": "stderr",
     "output_type": "stream",
     "text": [
      "\n",
      "Attaching package: 'dplyr'\n",
      "\n",
      "\n",
      "The following objects are masked from 'package:stats':\n",
      "\n",
      "    filter, lag\n",
      "\n",
      "\n",
      "The following objects are masked from 'package:base':\n",
      "\n",
      "    intersect, setdiff, setequal, union\n",
      "\n",
      "\n",
      "Warning message:\n",
      "\"package 'caret' was built under R version 3.6.3\"\n",
      "Loading required package: lattice\n",
      "\n",
      "Loading required package: ggplot2\n",
      "\n",
      "Warning message:\n",
      "\"package 'ggplot2' was built under R version 3.6.3\"\n"
     ]
    }
   ],
   "source": [
    "library(dplyr)\n",
    "library(caret)\n",
    "library(ggplot2)"
   ]
  },
  {
   "cell_type": "markdown",
   "metadata": {},
   "source": [
    "<pre>\n",
    " dplyr은 전처리를 위한 도구, caret은 나이브베이지안 등 여러 분석 툴, ggplot2는 시각화를 위해 로드하였다.\n",
    "</pre>"
   ]
  },
  {
   "cell_type": "code",
   "execution_count": 2,
   "metadata": {},
   "outputs": [
    {
     "name": "stderr",
     "output_type": "stream",
     "text": [
      "Warning message:\n",
      "\"package 'readr' was built under R version 3.6.3\"\n",
      "\n",
      "\u001b[36m--\u001b[39m \u001b[1m\u001b[1mColumn specification\u001b[1m\u001b[22m \u001b[36m--------------------------------------------------------\u001b[39m\n",
      "cols(\n",
      "  X1 = \u001b[31mcol_character()\u001b[39m,\n",
      "  X2 = \u001b[31mcol_character()\u001b[39m,\n",
      "  X3 = \u001b[31mcol_character()\u001b[39m,\n",
      "  X4 = \u001b[32mcol_double()\u001b[39m,\n",
      "  X5 = \u001b[32mcol_double()\u001b[39m,\n",
      "  X6 = \u001b[32mcol_double()\u001b[39m,\n",
      "  X7 = \u001b[32mcol_double()\u001b[39m,\n",
      "  X8 = \u001b[32mcol_double()\u001b[39m,\n",
      "  X9 = \u001b[32mcol_double()\u001b[39m,\n",
      "  X10 = \u001b[32mcol_double()\u001b[39m,\n",
      "  X11 = \u001b[32mcol_double()\u001b[39m,\n",
      "  X12 = \u001b[32mcol_double()\u001b[39m,\n",
      "  X13 = \u001b[32mcol_double()\u001b[39m\n",
      ")\n",
      "\n",
      "\n",
      "\n",
      "\u001b[36m--\u001b[39m \u001b[1m\u001b[1mColumn specification\u001b[1m\u001b[22m \u001b[36m--------------------------------------------------------\u001b[39m\n",
      "cols(\n",
      "  X1 = \u001b[31mcol_character()\u001b[39m,\n",
      "  X2 = \u001b[31mcol_character()\u001b[39m,\n",
      "  X3 = \u001b[31mcol_character()\u001b[39m,\n",
      "  X4 = \u001b[32mcol_double()\u001b[39m,\n",
      "  X5 = \u001b[32mcol_double()\u001b[39m,\n",
      "  X6 = \u001b[32mcol_double()\u001b[39m,\n",
      "  X7 = \u001b[32mcol_double()\u001b[39m,\n",
      "  X8 = \u001b[32mcol_double()\u001b[39m,\n",
      "  X9 = \u001b[32mcol_double()\u001b[39m,\n",
      "  X10 = \u001b[32mcol_double()\u001b[39m,\n",
      "  X11 = \u001b[32mcol_double()\u001b[39m,\n",
      "  X12 = \u001b[32mcol_double()\u001b[39m,\n",
      "  X13 = \u001b[32mcol_double()\u001b[39m\n",
      ")\n",
      "\n",
      "\n"
     ]
    }
   ],
   "source": [
    "library(readr)\n",
    "flare69 <- read_table2(\"C:/Users/user/Desktop/비대면/데분알/MiddleTest/DataAnalysis_with_R/Term Project/flare.data1\",\n",
    "                      col_names = FALSE)\n",
    "flare78 <- read_table2(\"C:/Users/user/Desktop/비대면/데분알/MiddleTest/DataAnalysis_with_R/Term Project/flare.data2\",\n",
    "                      col_names = FALSE)"
   ]
  },
  {
   "cell_type": "markdown",
   "metadata": {},
   "source": [
    "# 2. Pre-processing & EDA\n",
    "2.1 Pre-processing"
   ]
  },
  {
   "cell_type": "markdown",
   "metadata": {},
   "source": [
    "<pre>\n",
    " 먼저 데이터 컬럼에 이름을 부여하고, head()를 이용해서 데이터 상위 6개를 확인한다. \n",
    "</pre>"
   ]
  },
  {
   "cell_type": "code",
   "execution_count": 3,
   "metadata": {},
   "outputs": [
    {
     "data": {
      "text/html": [
       "<table>\n",
       "<caption>A tibble: 6 × 13</caption>\n",
       "<thead>\n",
       "\t<tr><th scope=col>Class</th><th scope=col>LSP</th><th scope=col>SD</th><th scope=col>Activity</th><th scope=col>Evoluation</th><th scope=col>Activity24</th><th scope=col>HC</th><th scope=col>RHC</th><th scope=col>Area</th><th scope=col>ALS</th><th scope=col>C_class</th><th scope=col>M_class</th><th scope=col>X_class</th></tr>\n",
       "\t<tr><th scope=col>&lt;chr&gt;</th><th scope=col>&lt;chr&gt;</th><th scope=col>&lt;chr&gt;</th><th scope=col>&lt;dbl&gt;</th><th scope=col>&lt;dbl&gt;</th><th scope=col>&lt;dbl&gt;</th><th scope=col>&lt;dbl&gt;</th><th scope=col>&lt;dbl&gt;</th><th scope=col>&lt;dbl&gt;</th><th scope=col>&lt;dbl&gt;</th><th scope=col>&lt;dbl&gt;</th><th scope=col>&lt;dbl&gt;</th><th scope=col>&lt;dbl&gt;</th></tr>\n",
       "</thead>\n",
       "<tbody>\n",
       "\t<tr><td>C</td><td>S</td><td>O</td><td>1</td><td>2</td><td>1</td><td>1</td><td>2</td><td>1</td><td>2</td><td>0</td><td>0</td><td>0</td></tr>\n",
       "\t<tr><td>D</td><td>S</td><td>O</td><td>1</td><td>3</td><td>1</td><td>1</td><td>2</td><td>1</td><td>2</td><td>0</td><td>0</td><td>0</td></tr>\n",
       "\t<tr><td>C</td><td>S</td><td>O</td><td>1</td><td>3</td><td>1</td><td>1</td><td>2</td><td>1</td><td>1</td><td>0</td><td>0</td><td>0</td></tr>\n",
       "\t<tr><td>D</td><td>S</td><td>O</td><td>1</td><td>3</td><td>1</td><td>1</td><td>2</td><td>1</td><td>2</td><td>0</td><td>0</td><td>0</td></tr>\n",
       "\t<tr><td>D</td><td>A</td><td>O</td><td>1</td><td>3</td><td>1</td><td>1</td><td>2</td><td>1</td><td>2</td><td>0</td><td>0</td><td>0</td></tr>\n",
       "\t<tr><td>D</td><td>A</td><td>O</td><td>1</td><td>2</td><td>1</td><td>1</td><td>2</td><td>1</td><td>2</td><td>0</td><td>0</td><td>0</td></tr>\n",
       "</tbody>\n",
       "</table>\n"
      ],
      "text/latex": [
       "A tibble: 6 × 13\n",
       "\\begin{tabular}{lllllllllllll}\n",
       " Class & LSP & SD & Activity & Evoluation & Activity24 & HC & RHC & Area & ALS & C\\_class & M\\_class & X\\_class\\\\\n",
       " <chr> & <chr> & <chr> & <dbl> & <dbl> & <dbl> & <dbl> & <dbl> & <dbl> & <dbl> & <dbl> & <dbl> & <dbl>\\\\\n",
       "\\hline\n",
       "\t C & S & O & 1 & 2 & 1 & 1 & 2 & 1 & 2 & 0 & 0 & 0\\\\\n",
       "\t D & S & O & 1 & 3 & 1 & 1 & 2 & 1 & 2 & 0 & 0 & 0\\\\\n",
       "\t C & S & O & 1 & 3 & 1 & 1 & 2 & 1 & 1 & 0 & 0 & 0\\\\\n",
       "\t D & S & O & 1 & 3 & 1 & 1 & 2 & 1 & 2 & 0 & 0 & 0\\\\\n",
       "\t D & A & O & 1 & 3 & 1 & 1 & 2 & 1 & 2 & 0 & 0 & 0\\\\\n",
       "\t D & A & O & 1 & 2 & 1 & 1 & 2 & 1 & 2 & 0 & 0 & 0\\\\\n",
       "\\end{tabular}\n"
      ],
      "text/markdown": [
       "\n",
       "A tibble: 6 × 13\n",
       "\n",
       "| Class &lt;chr&gt; | LSP &lt;chr&gt; | SD &lt;chr&gt; | Activity &lt;dbl&gt; | Evoluation &lt;dbl&gt; | Activity24 &lt;dbl&gt; | HC &lt;dbl&gt; | RHC &lt;dbl&gt; | Area &lt;dbl&gt; | ALS &lt;dbl&gt; | C_class &lt;dbl&gt; | M_class &lt;dbl&gt; | X_class &lt;dbl&gt; |\n",
       "|---|---|---|---|---|---|---|---|---|---|---|---|---|\n",
       "| C | S | O | 1 | 2 | 1 | 1 | 2 | 1 | 2 | 0 | 0 | 0 |\n",
       "| D | S | O | 1 | 3 | 1 | 1 | 2 | 1 | 2 | 0 | 0 | 0 |\n",
       "| C | S | O | 1 | 3 | 1 | 1 | 2 | 1 | 1 | 0 | 0 | 0 |\n",
       "| D | S | O | 1 | 3 | 1 | 1 | 2 | 1 | 2 | 0 | 0 | 0 |\n",
       "| D | A | O | 1 | 3 | 1 | 1 | 2 | 1 | 2 | 0 | 0 | 0 |\n",
       "| D | A | O | 1 | 2 | 1 | 1 | 2 | 1 | 2 | 0 | 0 | 0 |\n",
       "\n"
      ],
      "text/plain": [
       "  Class LSP SD Activity Evoluation Activity24 HC RHC Area ALS C_class M_class\n",
       "1 C     S   O  1        2          1          1  2   1    2   0       0      \n",
       "2 D     S   O  1        3          1          1  2   1    2   0       0      \n",
       "3 C     S   O  1        3          1          1  2   1    1   0       0      \n",
       "4 D     S   O  1        3          1          1  2   1    2   0       0      \n",
       "5 D     A   O  1        3          1          1  2   1    2   0       0      \n",
       "6 D     A   O  1        2          1          1  2   1    2   0       0      \n",
       "  X_class\n",
       "1 0      \n",
       "2 0      \n",
       "3 0      \n",
       "4 0      \n",
       "5 0      \n",
       "6 0      "
      ]
     },
     "metadata": {},
     "output_type": "display_data"
    },
    {
     "data": {
      "text/html": [
       "<table>\n",
       "<caption>A tibble: 6 × 13</caption>\n",
       "<thead>\n",
       "\t<tr><th scope=col>Class</th><th scope=col>LSP</th><th scope=col>SD</th><th scope=col>Activity</th><th scope=col>Evoluation</th><th scope=col>Activity24</th><th scope=col>HC</th><th scope=col>RHC</th><th scope=col>Area</th><th scope=col>ALS</th><th scope=col>C_class</th><th scope=col>M_class</th><th scope=col>X_class</th></tr>\n",
       "\t<tr><th scope=col>&lt;chr&gt;</th><th scope=col>&lt;chr&gt;</th><th scope=col>&lt;chr&gt;</th><th scope=col>&lt;dbl&gt;</th><th scope=col>&lt;dbl&gt;</th><th scope=col>&lt;dbl&gt;</th><th scope=col>&lt;dbl&gt;</th><th scope=col>&lt;dbl&gt;</th><th scope=col>&lt;dbl&gt;</th><th scope=col>&lt;dbl&gt;</th><th scope=col>&lt;dbl&gt;</th><th scope=col>&lt;dbl&gt;</th><th scope=col>&lt;dbl&gt;</th></tr>\n",
       "</thead>\n",
       "<tbody>\n",
       "\t<tr><td>H</td><td>A</td><td>X</td><td>1</td><td>3</td><td>1</td><td>1</td><td>1</td><td>1</td><td>1</td><td>0</td><td>0</td><td>0</td></tr>\n",
       "\t<tr><td>D</td><td>R</td><td>O</td><td>1</td><td>3</td><td>1</td><td>1</td><td>2</td><td>1</td><td>1</td><td>0</td><td>0</td><td>0</td></tr>\n",
       "\t<tr><td>C</td><td>S</td><td>O</td><td>1</td><td>3</td><td>1</td><td>1</td><td>2</td><td>1</td><td>1</td><td>0</td><td>0</td><td>0</td></tr>\n",
       "\t<tr><td>H</td><td>R</td><td>X</td><td>1</td><td>2</td><td>1</td><td>1</td><td>1</td><td>1</td><td>1</td><td>0</td><td>0</td><td>0</td></tr>\n",
       "\t<tr><td>H</td><td>S</td><td>X</td><td>1</td><td>1</td><td>1</td><td>1</td><td>2</td><td>1</td><td>1</td><td>0</td><td>0</td><td>0</td></tr>\n",
       "\t<tr><td>C</td><td>A</td><td>O</td><td>1</td><td>2</td><td>1</td><td>1</td><td>2</td><td>1</td><td>1</td><td>0</td><td>0</td><td>0</td></tr>\n",
       "</tbody>\n",
       "</table>\n"
      ],
      "text/latex": [
       "A tibble: 6 × 13\n",
       "\\begin{tabular}{lllllllllllll}\n",
       " Class & LSP & SD & Activity & Evoluation & Activity24 & HC & RHC & Area & ALS & C\\_class & M\\_class & X\\_class\\\\\n",
       " <chr> & <chr> & <chr> & <dbl> & <dbl> & <dbl> & <dbl> & <dbl> & <dbl> & <dbl> & <dbl> & <dbl> & <dbl>\\\\\n",
       "\\hline\n",
       "\t H & A & X & 1 & 3 & 1 & 1 & 1 & 1 & 1 & 0 & 0 & 0\\\\\n",
       "\t D & R & O & 1 & 3 & 1 & 1 & 2 & 1 & 1 & 0 & 0 & 0\\\\\n",
       "\t C & S & O & 1 & 3 & 1 & 1 & 2 & 1 & 1 & 0 & 0 & 0\\\\\n",
       "\t H & R & X & 1 & 2 & 1 & 1 & 1 & 1 & 1 & 0 & 0 & 0\\\\\n",
       "\t H & S & X & 1 & 1 & 1 & 1 & 2 & 1 & 1 & 0 & 0 & 0\\\\\n",
       "\t C & A & O & 1 & 2 & 1 & 1 & 2 & 1 & 1 & 0 & 0 & 0\\\\\n",
       "\\end{tabular}\n"
      ],
      "text/markdown": [
       "\n",
       "A tibble: 6 × 13\n",
       "\n",
       "| Class &lt;chr&gt; | LSP &lt;chr&gt; | SD &lt;chr&gt; | Activity &lt;dbl&gt; | Evoluation &lt;dbl&gt; | Activity24 &lt;dbl&gt; | HC &lt;dbl&gt; | RHC &lt;dbl&gt; | Area &lt;dbl&gt; | ALS &lt;dbl&gt; | C_class &lt;dbl&gt; | M_class &lt;dbl&gt; | X_class &lt;dbl&gt; |\n",
       "|---|---|---|---|---|---|---|---|---|---|---|---|---|\n",
       "| H | A | X | 1 | 3 | 1 | 1 | 1 | 1 | 1 | 0 | 0 | 0 |\n",
       "| D | R | O | 1 | 3 | 1 | 1 | 2 | 1 | 1 | 0 | 0 | 0 |\n",
       "| C | S | O | 1 | 3 | 1 | 1 | 2 | 1 | 1 | 0 | 0 | 0 |\n",
       "| H | R | X | 1 | 2 | 1 | 1 | 1 | 1 | 1 | 0 | 0 | 0 |\n",
       "| H | S | X | 1 | 1 | 1 | 1 | 2 | 1 | 1 | 0 | 0 | 0 |\n",
       "| C | A | O | 1 | 2 | 1 | 1 | 2 | 1 | 1 | 0 | 0 | 0 |\n",
       "\n"
      ],
      "text/plain": [
       "  Class LSP SD Activity Evoluation Activity24 HC RHC Area ALS C_class M_class\n",
       "1 H     A   X  1        3          1          1  1   1    1   0       0      \n",
       "2 D     R   O  1        3          1          1  2   1    1   0       0      \n",
       "3 C     S   O  1        3          1          1  2   1    1   0       0      \n",
       "4 H     R   X  1        2          1          1  1   1    1   0       0      \n",
       "5 H     S   X  1        1          1          1  2   1    1   0       0      \n",
       "6 C     A   O  1        2          1          1  2   1    1   0       0      \n",
       "  X_class\n",
       "1 0      \n",
       "2 0      \n",
       "3 0      \n",
       "4 0      \n",
       "5 0      \n",
       "6 0      "
      ]
     },
     "metadata": {},
     "output_type": "display_data"
    }
   ],
   "source": [
    "names(flare69) <- c('Class','LSP','SD','Activity',\n",
    "                    'Evoluation','Activity24','HC',\n",
    "                    'RHC','Area','ALS', 'C_class', 'M_class', 'X_class')\n",
    "names(flare78) <- c('Class','LSP','SD','Activity',\n",
    "                    'Evoluation','Activity24','HC',\n",
    "                    'RHC','Area','ALS','C_class', 'M_class', 'X_class')\n",
    "head(flare69)\n",
    "head(flare78)"
   ]
  },
  {
   "cell_type": "markdown",
   "metadata": {},
   "source": [
    "<pre>\n",
    " str()을 이용해서 두 데이터의 구조를 확인한다.\n",
    "</pre>"
   ]
  },
  {
   "cell_type": "code",
   "execution_count": 23,
   "metadata": {},
   "outputs": [
    {
     "name": "stdout",
     "output_type": "stream",
     "text": [
      "[1] \"flare69 summary\"\n"
     ]
    },
    {
     "data": {
      "text/plain": [
       " Class  LSP     SD         Activity       Evoluation      Activity24   \n",
       " B:65   A: 61   C: 19   Min.   :1.000   Min.   :1.000   Min.   :1.000  \n",
       " C:76   H: 11   I: 89   1st Qu.:1.000   1st Qu.:2.000   1st Qu.:1.000  \n",
       " D:88   K: 48   O:150   Median :1.000   Median :3.000   Median :1.000  \n",
       " E:21   R: 38   X: 65   Mean   :1.139   Mean   :2.486   Mean   :1.192  \n",
       " F: 8   S:100           3rd Qu.:1.000   3rd Qu.:3.000   3rd Qu.:1.000  \n",
       " H:65   X: 65           Max.   :2.000   Max.   :3.000   Max.   :3.000  \n",
       "       HC             RHC             Area            ALS       \n",
       " Min.   :1.000   Min.   :1.000   Min.   :1.000   Min.   :1.000  \n",
       " 1st Qu.:1.000   1st Qu.:2.000   1st Qu.:1.000   1st Qu.:2.000  \n",
       " Median :1.000   Median :2.000   Median :1.000   Median :2.000  \n",
       " Mean   :1.368   Mean   :1.947   Mean   :1.028   Mean   :1.755  \n",
       " 3rd Qu.:2.000   3rd Qu.:2.000   3rd Qu.:1.000   3rd Qu.:2.000  \n",
       " Max.   :2.000   Max.   :2.000   Max.   :2.000   Max.   :2.000  \n",
       "    C_class          M_class          X_class       \n",
       " Min.   :0.0000   Min.   :0.0000   Min.   :0.00000  \n",
       " 1st Qu.:0.0000   1st Qu.:0.0000   1st Qu.:0.00000  \n",
       " Median :0.0000   Median :0.0000   Median :0.00000  \n",
       " Mean   :0.1331   Mean   :0.1362   Mean   :0.02167  \n",
       " 3rd Qu.:0.0000   3rd Qu.:0.0000   3rd Qu.:0.00000  \n",
       " Max.   :2.0000   Max.   :4.0000   Max.   :1.00000  "
      ]
     },
     "metadata": {},
     "output_type": "display_data"
    },
    {
     "name": "stdout",
     "output_type": "stream",
     "text": [
      "[1] \"flare69 str\"\n",
      "Classes 'spec_tbl_df', 'tbl_df', 'tbl' and 'data.frame':\t323 obs. of  13 variables:\n",
      " $ Class     : Factor w/ 6 levels \"B\",\"C\",\"D\",\"E\",..: 2 3 2 3 3 3 3 3 3 2 ...\n",
      " $ LSP       : Factor w/ 6 levels \"A\",\"H\",\"K\",\"R\",..: 5 5 5 5 1 1 1 1 3 4 ...\n",
      " $ SD        : Factor w/ 4 levels \"C\",\"I\",\"O\",\"X\": 3 3 3 3 3 3 3 3 3 3 ...\n",
      " $ Activity  : num  1 1 1 1 1 1 1 1 1 1 ...\n",
      " $ Evoluation: num  2 3 3 3 3 2 2 2 3 3 ...\n",
      " $ Activity24: num  1 1 1 1 1 1 1 1 1 1 ...\n",
      " $ HC        : num  1 1 1 1 1 1 1 1 1 1 ...\n",
      " $ RHC       : num  2 2 2 2 2 2 2 2 2 2 ...\n",
      " $ Area      : num  1 1 1 1 1 1 1 1 1 1 ...\n",
      " $ ALS       : num  2 2 1 2 2 2 1 2 2 1 ...\n",
      " $ C_class   : num  0 0 0 0 0 0 0 0 0 0 ...\n",
      " $ M_class   : num  0 0 0 0 0 0 0 0 0 0 ...\n",
      " $ X_class   : num  0 0 0 0 0 0 0 0 0 0 ...\n",
      " - attr(*, \"spec\")=\n",
      "  .. cols(\n",
      "  ..   X1 = \u001b[31mcol_character()\u001b[39m,\n",
      "  ..   X2 = \u001b[31mcol_character()\u001b[39m,\n",
      "  ..   X3 = \u001b[31mcol_character()\u001b[39m,\n",
      "  ..   X4 = \u001b[32mcol_double()\u001b[39m,\n",
      "  ..   X5 = \u001b[32mcol_double()\u001b[39m,\n",
      "  ..   X6 = \u001b[32mcol_double()\u001b[39m,\n",
      "  ..   X7 = \u001b[32mcol_double()\u001b[39m,\n",
      "  ..   X8 = \u001b[32mcol_double()\u001b[39m,\n",
      "  ..   X9 = \u001b[32mcol_double()\u001b[39m,\n",
      "  ..   X10 = \u001b[32mcol_double()\u001b[39m,\n",
      "  ..   X11 = \u001b[32mcol_double()\u001b[39m,\n",
      "  ..   X12 = \u001b[32mcol_double()\u001b[39m,\n",
      "  ..   X13 = \u001b[32mcol_double()\u001b[39m\n",
      "  .. )\n",
      "[1] \"flare78 summary\"\n"
     ]
    },
    {
     "data": {
      "text/plain": [
       " Class   LSP     SD         Activity       Evoluation      Activity24   \n",
       " B:147   A:216   C: 35   Min.   :1.000   Min.   :1.000   Min.   :1.000  \n",
       " C:211   H: 27   I:223   1st Qu.:1.000   1st Qu.:2.000   1st Qu.:1.000  \n",
       " D:239   K: 46   O:477   Median :1.000   Median :2.000   Median :1.000  \n",
       " E: 95   R:218   X:331   Mean   :1.154   Mean   :2.402   Mean   :1.059  \n",
       " F: 43   S:414           3rd Qu.:1.000   3rd Qu.:3.000   3rd Qu.:1.000  \n",
       " H:331   X:145           Max.   :2.000   Max.   :3.000   Max.   :3.000  \n",
       "       HC             RHC             Area            ALS       C_class      \n",
       " Min.   :1.000   Min.   :1.000   Min.   :1.000   Min.   :1   Min.   :0.0000  \n",
       " 1st Qu.:1.000   1st Qu.:2.000   1st Qu.:1.000   1st Qu.:1   1st Qu.:0.0000  \n",
       " Median :1.000   Median :2.000   Median :1.000   Median :1   Median :0.0000  \n",
       " Mean   :1.404   Mean   :1.875   Mean   :1.025   Mean   :1   Mean   :0.3002  \n",
       " 3rd Qu.:2.000   3rd Qu.:2.000   3rd Qu.:1.000   3rd Qu.:1   3rd Qu.:0.0000  \n",
       " Max.   :2.000   Max.   :2.000   Max.   :2.000   Max.   :1   Max.   :8.0000  \n",
       "    M_class          X_class        \n",
       " Min.   :0.0000   Min.   :0.000000  \n",
       " 1st Qu.:0.0000   1st Qu.:0.000000  \n",
       " Median :0.0000   Median :0.000000  \n",
       " Mean   :0.0469   Mean   :0.005628  \n",
       " 3rd Qu.:0.0000   3rd Qu.:0.000000  \n",
       " Max.   :5.0000   Max.   :2.000000  "
      ]
     },
     "metadata": {},
     "output_type": "display_data"
    },
    {
     "name": "stdout",
     "output_type": "stream",
     "text": [
      "[1] \"flare78 str\"\n",
      "Classes 'spec_tbl_df', 'tbl_df', 'tbl' and 'data.frame':\t1066 obs. of  13 variables:\n",
      " $ Class     : Factor w/ 6 levels \"B\",\"C\",\"D\",\"E\",..: 6 3 2 6 6 2 1 2 2 1 ...\n",
      " $ LSP       : Factor w/ 6 levels \"A\",\"H\",\"K\",\"R\",..: 1 4 5 4 5 1 6 1 1 6 ...\n",
      " $ SD        : Factor w/ 4 levels \"C\",\"I\",\"O\",\"X\": 4 3 3 4 4 3 3 3 3 3 ...\n",
      " $ Activity  : num  1 1 1 1 1 1 1 1 1 1 ...\n",
      " $ Evoluation: num  3 3 3 2 1 2 3 3 2 3 ...\n",
      " $ Activity24: num  1 1 1 1 1 1 1 1 1 1 ...\n",
      " $ HC        : num  1 1 1 1 1 1 1 1 1 1 ...\n",
      " $ RHC       : num  1 2 2 1 2 2 2 2 2 2 ...\n",
      " $ Area      : num  1 1 1 1 1 1 1 1 1 1 ...\n",
      " $ ALS       : num  1 1 1 1 1 1 1 1 1 1 ...\n",
      " $ C_class   : num  0 0 0 0 0 0 0 0 1 0 ...\n",
      " $ M_class   : num  0 0 0 0 0 0 0 0 0 0 ...\n",
      " $ X_class   : num  0 0 0 0 0 0 0 0 0 0 ...\n",
      " - attr(*, \"spec\")=\n",
      "  .. cols(\n",
      "  ..   X1 = \u001b[31mcol_character()\u001b[39m,\n",
      "  ..   X2 = \u001b[31mcol_character()\u001b[39m,\n",
      "  ..   X3 = \u001b[31mcol_character()\u001b[39m,\n",
      "  ..   X4 = \u001b[32mcol_double()\u001b[39m,\n",
      "  ..   X5 = \u001b[32mcol_double()\u001b[39m,\n",
      "  ..   X6 = \u001b[32mcol_double()\u001b[39m,\n",
      "  ..   X7 = \u001b[32mcol_double()\u001b[39m,\n",
      "  ..   X8 = \u001b[32mcol_double()\u001b[39m,\n",
      "  ..   X9 = \u001b[32mcol_double()\u001b[39m,\n",
      "  ..   X10 = \u001b[32mcol_double()\u001b[39m,\n",
      "  ..   X11 = \u001b[32mcol_double()\u001b[39m,\n",
      "  ..   X12 = \u001b[32mcol_double()\u001b[39m,\n",
      "  ..   X13 = \u001b[32mcol_double()\u001b[39m\n",
      "  .. )\n"
     ]
    }
   ],
   "source": [
    "print(\"flare69 summary\")\n",
    "summary(flare69)\n",
    "print(\"flare69 str\")\n",
    "str(flare69)\n",
    "print(\"flare78 summary\")\n",
    "summary(flare78)\n",
    "print(\"flare78 str\")\n",
    "str(flare78)"
   ]
  },
  {
   "cell_type": "markdown",
   "metadata": {},
   "source": [
    "<pre>\n",
    " 요인변수(factor)형이여야 하는 변수 class, LSP, SD가 char형이기에 as.factor를 이용해서 factor형으로 바꿔주고 다시 구조를 파악한다.\n",
    "</pre>"
   ]
  },
  {
   "cell_type": "code",
   "execution_count": 5,
   "metadata": {},
   "outputs": [
    {
     "name": "stdout",
     "output_type": "stream",
     "text": [
      "Classes 'spec_tbl_df', 'tbl_df', 'tbl' and 'data.frame':\t323 obs. of  13 variables:\n",
      " $ Class     : Factor w/ 6 levels \"B\",\"C\",\"D\",\"E\",..: 2 3 2 3 3 3 3 3 3 2 ...\n",
      " $ LSP       : Factor w/ 6 levels \"A\",\"H\",\"K\",\"R\",..: 5 5 5 5 1 1 1 1 3 4 ...\n",
      " $ SD        : Factor w/ 4 levels \"C\",\"I\",\"O\",\"X\": 3 3 3 3 3 3 3 3 3 3 ...\n",
      " $ Activity  : num  1 1 1 1 1 1 1 1 1 1 ...\n",
      " $ Evoluation: num  2 3 3 3 3 2 2 2 3 3 ...\n",
      " $ Activity24: num  1 1 1 1 1 1 1 1 1 1 ...\n",
      " $ HC        : num  1 1 1 1 1 1 1 1 1 1 ...\n",
      " $ RHC       : num  2 2 2 2 2 2 2 2 2 2 ...\n",
      " $ Area      : num  1 1 1 1 1 1 1 1 1 1 ...\n",
      " $ ALS       : num  2 2 1 2 2 2 1 2 2 1 ...\n",
      " $ C_class   : num  0 0 0 0 0 0 0 0 0 0 ...\n",
      " $ M_class   : num  0 0 0 0 0 0 0 0 0 0 ...\n",
      " $ X_class   : num  0 0 0 0 0 0 0 0 0 0 ...\n",
      " - attr(*, \"spec\")=\n",
      "  .. cols(\n",
      "  ..   X1 = \u001b[31mcol_character()\u001b[39m,\n",
      "  ..   X2 = \u001b[31mcol_character()\u001b[39m,\n",
      "  ..   X3 = \u001b[31mcol_character()\u001b[39m,\n",
      "  ..   X4 = \u001b[32mcol_double()\u001b[39m,\n",
      "  ..   X5 = \u001b[32mcol_double()\u001b[39m,\n",
      "  ..   X6 = \u001b[32mcol_double()\u001b[39m,\n",
      "  ..   X7 = \u001b[32mcol_double()\u001b[39m,\n",
      "  ..   X8 = \u001b[32mcol_double()\u001b[39m,\n",
      "  ..   X9 = \u001b[32mcol_double()\u001b[39m,\n",
      "  ..   X10 = \u001b[32mcol_double()\u001b[39m,\n",
      "  ..   X11 = \u001b[32mcol_double()\u001b[39m,\n",
      "  ..   X12 = \u001b[32mcol_double()\u001b[39m,\n",
      "  ..   X13 = \u001b[32mcol_double()\u001b[39m\n",
      "  .. )\n",
      "Classes 'spec_tbl_df', 'tbl_df', 'tbl' and 'data.frame':\t1066 obs. of  13 variables:\n",
      " $ Class     : Factor w/ 6 levels \"B\",\"C\",\"D\",\"E\",..: 6 3 2 6 6 2 1 2 2 1 ...\n",
      " $ LSP       : Factor w/ 6 levels \"A\",\"H\",\"K\",\"R\",..: 1 4 5 4 5 1 6 1 1 6 ...\n",
      " $ SD        : Factor w/ 4 levels \"C\",\"I\",\"O\",\"X\": 4 3 3 4 4 3 3 3 3 3 ...\n",
      " $ Activity  : num  1 1 1 1 1 1 1 1 1 1 ...\n",
      " $ Evoluation: num  3 3 3 2 1 2 3 3 2 3 ...\n",
      " $ Activity24: num  1 1 1 1 1 1 1 1 1 1 ...\n",
      " $ HC        : num  1 1 1 1 1 1 1 1 1 1 ...\n",
      " $ RHC       : num  1 2 2 1 2 2 2 2 2 2 ...\n",
      " $ Area      : num  1 1 1 1 1 1 1 1 1 1 ...\n",
      " $ ALS       : num  1 1 1 1 1 1 1 1 1 1 ...\n",
      " $ C_class   : num  0 0 0 0 0 0 0 0 1 0 ...\n",
      " $ M_class   : num  0 0 0 0 0 0 0 0 0 0 ...\n",
      " $ X_class   : num  0 0 0 0 0 0 0 0 0 0 ...\n",
      " - attr(*, \"spec\")=\n",
      "  .. cols(\n",
      "  ..   X1 = \u001b[31mcol_character()\u001b[39m,\n",
      "  ..   X2 = \u001b[31mcol_character()\u001b[39m,\n",
      "  ..   X3 = \u001b[31mcol_character()\u001b[39m,\n",
      "  ..   X4 = \u001b[32mcol_double()\u001b[39m,\n",
      "  ..   X5 = \u001b[32mcol_double()\u001b[39m,\n",
      "  ..   X6 = \u001b[32mcol_double()\u001b[39m,\n",
      "  ..   X7 = \u001b[32mcol_double()\u001b[39m,\n",
      "  ..   X8 = \u001b[32mcol_double()\u001b[39m,\n",
      "  ..   X9 = \u001b[32mcol_double()\u001b[39m,\n",
      "  ..   X10 = \u001b[32mcol_double()\u001b[39m,\n",
      "  ..   X11 = \u001b[32mcol_double()\u001b[39m,\n",
      "  ..   X12 = \u001b[32mcol_double()\u001b[39m,\n",
      "  ..   X13 = \u001b[32mcol_double()\u001b[39m\n",
      "  .. )\n"
     ]
    }
   ],
   "source": [
    "flare69$Class <- as.factor(flare69$Class)\n",
    "flare69$LSP <- as.factor(flare69$LSP)\n",
    "flare69$SD <- as.factor(flare69$SD)\n",
    "flare78$Class <- as.factor(flare78$Class)\n",
    "flare78$LSP <- as.factor(flare78$LSP)\n",
    "flare78$SD <- as.factor(flare78$SD)\n",
    "\n",
    "str(flare69)\n",
    "str(flare78)"
   ]
  },
  {
   "cell_type": "markdown",
   "metadata": {},
   "source": [
    "<pre>\n",
    "  데이터 구조를 확인하였으니 각 변수의 결측치와 이상치를 확인한다.\n",
    "</pre>"
   ]
  },
  {
   "cell_type": "code",
   "execution_count": 6,
   "metadata": {},
   "outputs": [
    {
     "data": {
      "text/plain": [
       "\n",
       "FALSE \n",
       " 4199 "
      ]
     },
     "metadata": {},
     "output_type": "display_data"
    },
    {
     "data": {
      "text/plain": [
       "\n",
       "FALSE \n",
       "13858 "
      ]
     },
     "metadata": {},
     "output_type": "display_data"
    }
   ],
   "source": [
    "# 결측치 빈도확인\n",
    "table(is.na(flare69))\n",
    "table(is.na(flare78))"
   ]
  },
  {
   "cell_type": "markdown",
   "metadata": {},
   "source": [
    "<pre>\n",
    "2.2 EDA\n",
    " 2.1에서 전처리에서 데이터의 특징과 결측치의 유무를 확인하고 factor형으로 변환할 변수는 변환하였다. 다음은 상자그림을 통해 이상치를 파악하고, 모자이크 그림을 통해 빈도의 비례가 어떻게 되는지 파악한 다음에 상관분석을 통해 데이터간의 상관관계를 파악한다.\n",
    "</pre>"
   ]
  },
  {
   "cell_type": "code",
   "execution_count": 7,
   "metadata": {},
   "outputs": [
    {
     "data": {
      "image/png": "[encoded data removed]",
      "text/plain": [
       "Plot with title \"Flare69 boxplot\""
      ]
     },
     "metadata": {
      "image/png": {
       "height": 420,
       "width": 420
      }
     },
     "output_type": "display_data"
    },
    {
     "data": {
      "image/png": "[encoded data removed]",
      "text/plain": [
       "Plot with title \"Flare78 boxplot\""
      ]
     },
     "metadata": {
      "image/png": {
       "height": 420,
       "width": 420
      }
     },
     "output_type": "display_data"
    }
   ],
   "source": [
    "# 이상치 확인을 위한 boxplot \n",
    "boxplot(flare69$Activity, flare69$Evoluation, flare69$Activity24, \n",
    "        flare69$HC, flare69$RHC, flare69$Area, flare69$ALS, flare69$C_class, \n",
    "        flare69$M_class, flare69$X_class,\n",
    "       main='Flare69 boxplot')\n",
    "boxplot(flare78$Activity, flare78$Evoluation, flare78$Activity24, \n",
    "        flare78$HC, flare78$RHC, flare78$Area, flare78$ALS, flare78$C_class, \n",
    "        flare78$M_class, flare78$X_class,\n",
    "       main='Flare78 boxplot')"
   ]
  },
  {
   "cell_type": "code",
   "execution_count": 24,
   "metadata": {},
   "outputs": [
    {
     "name": "stderr",
     "output_type": "stream",
     "text": [
      "Warning message:\n",
      "\"package 'ggmosaic' was built under R version 3.6.3\"\n"
     ]
    }
   ],
   "source": [
    "## 모자이크 그림 추가하기\n",
    "library(ggmosaic)\n"
   ]
  },
  {
   "cell_type": "markdown",
   "metadata": {},
   "source": [
    "<pre>\n",
    " 변수간의 상관관계를 알기 위한 상관분석에 앞서 flare69_1, flare78_1 변수에 각각 flare69와 flare78로 데이터를 복사해주고, factor인 변수를 numeric으로 변환한다. class의 A,B,C,D,E,F,H는 0,1,2,3,4,5,6으로 LSP의 X,R,S,A,H,K는 0,1,2,3,4,5로, SD의 X,O,I,C는 0,1,2,3으로 변환하여 상관분석을 행한다.\n",
    "</pre>"
   ]
  },
  {
   "cell_type": "code",
   "execution_count": 17,
   "metadata": {},
   "outputs": [
    {
     "data": {
      "text/html": [
       "<table>\n",
       "<caption>A tibble: 6 × 13</caption>\n",
       "<thead>\n",
       "\t<tr><th scope=col>Class</th><th scope=col>LSP</th><th scope=col>SD</th><th scope=col>Activity</th><th scope=col>Evoluation</th><th scope=col>Activity24</th><th scope=col>HC</th><th scope=col>RHC</th><th scope=col>Area</th><th scope=col>ALS</th><th scope=col>C_class</th><th scope=col>M_class</th><th scope=col>X_class</th></tr>\n",
       "\t<tr><th scope=col>&lt;dbl&gt;</th><th scope=col>&lt;dbl&gt;</th><th scope=col>&lt;dbl&gt;</th><th scope=col>&lt;dbl&gt;</th><th scope=col>&lt;dbl&gt;</th><th scope=col>&lt;dbl&gt;</th><th scope=col>&lt;dbl&gt;</th><th scope=col>&lt;dbl&gt;</th><th scope=col>&lt;dbl&gt;</th><th scope=col>&lt;dbl&gt;</th><th scope=col>&lt;dbl&gt;</th><th scope=col>&lt;dbl&gt;</th><th scope=col>&lt;dbl&gt;</th></tr>\n",
       "</thead>\n",
       "<tbody>\n",
       "\t<tr><td>2</td><td>2</td><td>3</td><td>1</td><td>2</td><td>1</td><td>1</td><td>2</td><td>1</td><td>2</td><td>0</td><td>0</td><td>0</td></tr>\n",
       "\t<tr><td>3</td><td>2</td><td>3</td><td>1</td><td>3</td><td>1</td><td>1</td><td>2</td><td>1</td><td>2</td><td>0</td><td>0</td><td>0</td></tr>\n",
       "\t<tr><td>2</td><td>2</td><td>3</td><td>1</td><td>3</td><td>1</td><td>1</td><td>2</td><td>1</td><td>1</td><td>0</td><td>0</td><td>0</td></tr>\n",
       "\t<tr><td>3</td><td>2</td><td>3</td><td>1</td><td>3</td><td>1</td><td>1</td><td>2</td><td>1</td><td>2</td><td>0</td><td>0</td><td>0</td></tr>\n",
       "\t<tr><td>3</td><td>3</td><td>3</td><td>1</td><td>3</td><td>1</td><td>1</td><td>2</td><td>1</td><td>2</td><td>0</td><td>0</td><td>0</td></tr>\n",
       "\t<tr><td>3</td><td>3</td><td>3</td><td>1</td><td>2</td><td>1</td><td>1</td><td>2</td><td>1</td><td>2</td><td>0</td><td>0</td><td>0</td></tr>\n",
       "</tbody>\n",
       "</table>\n"
      ],
      "text/latex": [
       "A tibble: 6 × 13\n",
       "\\begin{tabular}{lllllllllllll}\n",
       " Class & LSP & SD & Activity & Evoluation & Activity24 & HC & RHC & Area & ALS & C\\_class & M\\_class & X\\_class\\\\\n",
       " <dbl> & <dbl> & <dbl> & <dbl> & <dbl> & <dbl> & <dbl> & <dbl> & <dbl> & <dbl> & <dbl> & <dbl> & <dbl>\\\\\n",
       "\\hline\n",
       "\t 2 & 2 & 3 & 1 & 2 & 1 & 1 & 2 & 1 & 2 & 0 & 0 & 0\\\\\n",
       "\t 3 & 2 & 3 & 1 & 3 & 1 & 1 & 2 & 1 & 2 & 0 & 0 & 0\\\\\n",
       "\t 2 & 2 & 3 & 1 & 3 & 1 & 1 & 2 & 1 & 1 & 0 & 0 & 0\\\\\n",
       "\t 3 & 2 & 3 & 1 & 3 & 1 & 1 & 2 & 1 & 2 & 0 & 0 & 0\\\\\n",
       "\t 3 & 3 & 3 & 1 & 3 & 1 & 1 & 2 & 1 & 2 & 0 & 0 & 0\\\\\n",
       "\t 3 & 3 & 3 & 1 & 2 & 1 & 1 & 2 & 1 & 2 & 0 & 0 & 0\\\\\n",
       "\\end{tabular}\n"
      ],
      "text/markdown": [
       "\n",
       "A tibble: 6 × 13\n",
       "\n",
       "| Class &lt;dbl&gt; | LSP &lt;dbl&gt; | SD &lt;dbl&gt; | Activity &lt;dbl&gt; | Evoluation &lt;dbl&gt; | Activity24 &lt;dbl&gt; | HC &lt;dbl&gt; | RHC &lt;dbl&gt; | Area &lt;dbl&gt; | ALS &lt;dbl&gt; | C_class &lt;dbl&gt; | M_class &lt;dbl&gt; | X_class &lt;dbl&gt; |\n",
       "|---|---|---|---|---|---|---|---|---|---|---|---|---|\n",
       "| 2 | 2 | 3 | 1 | 2 | 1 | 1 | 2 | 1 | 2 | 0 | 0 | 0 |\n",
       "| 3 | 2 | 3 | 1 | 3 | 1 | 1 | 2 | 1 | 2 | 0 | 0 | 0 |\n",
       "| 2 | 2 | 3 | 1 | 3 | 1 | 1 | 2 | 1 | 1 | 0 | 0 | 0 |\n",
       "| 3 | 2 | 3 | 1 | 3 | 1 | 1 | 2 | 1 | 2 | 0 | 0 | 0 |\n",
       "| 3 | 3 | 3 | 1 | 3 | 1 | 1 | 2 | 1 | 2 | 0 | 0 | 0 |\n",
       "| 3 | 3 | 3 | 1 | 2 | 1 | 1 | 2 | 1 | 2 | 0 | 0 | 0 |\n",
       "\n"
      ],
      "text/plain": [
       "  Class LSP SD Activity Evoluation Activity24 HC RHC Area ALS C_class M_class\n",
       "1 2     2   3  1        2          1          1  2   1    2   0       0      \n",
       "2 3     2   3  1        3          1          1  2   1    2   0       0      \n",
       "3 2     2   3  1        3          1          1  2   1    1   0       0      \n",
       "4 3     2   3  1        3          1          1  2   1    2   0       0      \n",
       "5 3     3   3  1        3          1          1  2   1    2   0       0      \n",
       "6 3     3   3  1        2          1          1  2   1    2   0       0      \n",
       "  X_class\n",
       "1 0      \n",
       "2 0      \n",
       "3 0      \n",
       "4 0      \n",
       "5 0      \n",
       "6 0      "
      ]
     },
     "metadata": {},
     "output_type": "display_data"
    },
    {
     "name": "stdout",
     "output_type": "stream",
     "text": [
      "Classes 'spec_tbl_df', 'tbl_df', 'tbl' and 'data.frame':\t323 obs. of  13 variables:\n",
      " $ Class     : num  2 3 2 3 3 3 3 3 3 2 ...\n",
      " $ LSP       : num  2 2 2 2 3 3 3 3 5 1 ...\n",
      " $ SD        : num  3 3 3 3 3 3 3 3 3 3 ...\n",
      " $ Activity  : num  1 1 1 1 1 1 1 1 1 1 ...\n",
      " $ Evoluation: num  2 3 3 3 3 2 2 2 3 3 ...\n",
      " $ Activity24: num  1 1 1 1 1 1 1 1 1 1 ...\n",
      " $ HC        : num  1 1 1 1 1 1 1 1 1 1 ...\n",
      " $ RHC       : num  2 2 2 2 2 2 2 2 2 2 ...\n",
      " $ Area      : num  1 1 1 1 1 1 1 1 1 1 ...\n",
      " $ ALS       : num  2 2 1 2 2 2 1 2 2 1 ...\n",
      " $ C_class   : num  0 0 0 0 0 0 0 0 0 0 ...\n",
      " $ M_class   : num  0 0 0 0 0 0 0 0 0 0 ...\n",
      " $ X_class   : num  0 0 0 0 0 0 0 0 0 0 ...\n",
      " - attr(*, \"spec\")=\n",
      "  .. cols(\n",
      "  ..   X1 = \u001b[31mcol_character()\u001b[39m,\n",
      "  ..   X2 = \u001b[31mcol_character()\u001b[39m,\n",
      "  ..   X3 = \u001b[31mcol_character()\u001b[39m,\n",
      "  ..   X4 = \u001b[32mcol_double()\u001b[39m,\n",
      "  ..   X5 = \u001b[32mcol_double()\u001b[39m,\n",
      "  ..   X6 = \u001b[32mcol_double()\u001b[39m,\n",
      "  ..   X7 = \u001b[32mcol_double()\u001b[39m,\n",
      "  ..   X8 = \u001b[32mcol_double()\u001b[39m,\n",
      "  ..   X9 = \u001b[32mcol_double()\u001b[39m,\n",
      "  ..   X10 = \u001b[32mcol_double()\u001b[39m,\n",
      "  ..   X11 = \u001b[32mcol_double()\u001b[39m,\n",
      "  ..   X12 = \u001b[32mcol_double()\u001b[39m,\n",
      "  ..   X13 = \u001b[32mcol_double()\u001b[39m\n",
      "  .. )\n"
     ]
    },
    {
     "data": {
      "text/html": [
       "<table>\n",
       "<caption>A tibble: 6 × 13</caption>\n",
       "<thead>\n",
       "\t<tr><th scope=col>Class</th><th scope=col>LSP</th><th scope=col>SD</th><th scope=col>Activity</th><th scope=col>Evoluation</th><th scope=col>Activity24</th><th scope=col>HC</th><th scope=col>RHC</th><th scope=col>Area</th><th scope=col>ALS</th><th scope=col>C_class</th><th scope=col>M_class</th><th scope=col>X_class</th></tr>\n",
       "\t<tr><th scope=col>&lt;dbl&gt;</th><th scope=col>&lt;dbl&gt;</th><th scope=col>&lt;dbl&gt;</th><th scope=col>&lt;dbl&gt;</th><th scope=col>&lt;dbl&gt;</th><th scope=col>&lt;dbl&gt;</th><th scope=col>&lt;dbl&gt;</th><th scope=col>&lt;dbl&gt;</th><th scope=col>&lt;dbl&gt;</th><th scope=col>&lt;dbl&gt;</th><th scope=col>&lt;dbl&gt;</th><th scope=col>&lt;dbl&gt;</th><th scope=col>&lt;dbl&gt;</th></tr>\n",
       "</thead>\n",
       "<tbody>\n",
       "\t<tr><td>6</td><td>3</td><td>3</td><td>1</td><td>3</td><td>1</td><td>1</td><td>1</td><td>1</td><td>1</td><td>0</td><td>0</td><td>0</td></tr>\n",
       "\t<tr><td>3</td><td>1</td><td>3</td><td>1</td><td>3</td><td>1</td><td>1</td><td>2</td><td>1</td><td>1</td><td>0</td><td>0</td><td>0</td></tr>\n",
       "\t<tr><td>2</td><td>2</td><td>3</td><td>1</td><td>3</td><td>1</td><td>1</td><td>2</td><td>1</td><td>1</td><td>0</td><td>0</td><td>0</td></tr>\n",
       "\t<tr><td>6</td><td>1</td><td>3</td><td>1</td><td>2</td><td>1</td><td>1</td><td>1</td><td>1</td><td>1</td><td>0</td><td>0</td><td>0</td></tr>\n",
       "\t<tr><td>6</td><td>2</td><td>3</td><td>1</td><td>1</td><td>1</td><td>1</td><td>2</td><td>1</td><td>1</td><td>0</td><td>0</td><td>0</td></tr>\n",
       "\t<tr><td>2</td><td>3</td><td>3</td><td>1</td><td>2</td><td>1</td><td>1</td><td>2</td><td>1</td><td>1</td><td>0</td><td>0</td><td>0</td></tr>\n",
       "</tbody>\n",
       "</table>\n"
      ],
      "text/latex": [
       "A tibble: 6 × 13\n",
       "\\begin{tabular}{lllllllllllll}\n",
       " Class & LSP & SD & Activity & Evoluation & Activity24 & HC & RHC & Area & ALS & C\\_class & M\\_class & X\\_class\\\\\n",
       " <dbl> & <dbl> & <dbl> & <dbl> & <dbl> & <dbl> & <dbl> & <dbl> & <dbl> & <dbl> & <dbl> & <dbl> & <dbl>\\\\\n",
       "\\hline\n",
       "\t 6 & 3 & 3 & 1 & 3 & 1 & 1 & 1 & 1 & 1 & 0 & 0 & 0\\\\\n",
       "\t 3 & 1 & 3 & 1 & 3 & 1 & 1 & 2 & 1 & 1 & 0 & 0 & 0\\\\\n",
       "\t 2 & 2 & 3 & 1 & 3 & 1 & 1 & 2 & 1 & 1 & 0 & 0 & 0\\\\\n",
       "\t 6 & 1 & 3 & 1 & 2 & 1 & 1 & 1 & 1 & 1 & 0 & 0 & 0\\\\\n",
       "\t 6 & 2 & 3 & 1 & 1 & 1 & 1 & 2 & 1 & 1 & 0 & 0 & 0\\\\\n",
       "\t 2 & 3 & 3 & 1 & 2 & 1 & 1 & 2 & 1 & 1 & 0 & 0 & 0\\\\\n",
       "\\end{tabular}\n"
      ],
      "text/markdown": [
       "\n",
       "A tibble: 6 × 13\n",
       "\n",
       "| Class &lt;dbl&gt; | LSP &lt;dbl&gt; | SD &lt;dbl&gt; | Activity &lt;dbl&gt; | Evoluation &lt;dbl&gt; | Activity24 &lt;dbl&gt; | HC &lt;dbl&gt; | RHC &lt;dbl&gt; | Area &lt;dbl&gt; | ALS &lt;dbl&gt; | C_class &lt;dbl&gt; | M_class &lt;dbl&gt; | X_class &lt;dbl&gt; |\n",
       "|---|---|---|---|---|---|---|---|---|---|---|---|---|\n",
       "| 6 | 3 | 3 | 1 | 3 | 1 | 1 | 1 | 1 | 1 | 0 | 0 | 0 |\n",
       "| 3 | 1 | 3 | 1 | 3 | 1 | 1 | 2 | 1 | 1 | 0 | 0 | 0 |\n",
       "| 2 | 2 | 3 | 1 | 3 | 1 | 1 | 2 | 1 | 1 | 0 | 0 | 0 |\n",
       "| 6 | 1 | 3 | 1 | 2 | 1 | 1 | 1 | 1 | 1 | 0 | 0 | 0 |\n",
       "| 6 | 2 | 3 | 1 | 1 | 1 | 1 | 2 | 1 | 1 | 0 | 0 | 0 |\n",
       "| 2 | 3 | 3 | 1 | 2 | 1 | 1 | 2 | 1 | 1 | 0 | 0 | 0 |\n",
       "\n"
      ],
      "text/plain": [
       "  Class LSP SD Activity Evoluation Activity24 HC RHC Area ALS C_class M_class\n",
       "1 6     3   3  1        3          1          1  1   1    1   0       0      \n",
       "2 3     1   3  1        3          1          1  2   1    1   0       0      \n",
       "3 2     2   3  1        3          1          1  2   1    1   0       0      \n",
       "4 6     1   3  1        2          1          1  1   1    1   0       0      \n",
       "5 6     2   3  1        1          1          1  2   1    1   0       0      \n",
       "6 2     3   3  1        2          1          1  2   1    1   0       0      \n",
       "  X_class\n",
       "1 0      \n",
       "2 0      \n",
       "3 0      \n",
       "4 0      \n",
       "5 0      \n",
       "6 0      "
      ]
     },
     "metadata": {},
     "output_type": "display_data"
    },
    {
     "name": "stdout",
     "output_type": "stream",
     "text": [
      "Classes 'spec_tbl_df', 'tbl_df', 'tbl' and 'data.frame':\t1066 obs. of  13 variables:\n",
      " $ Class     : num  6 3 2 6 6 2 1 2 2 1 ...\n",
      " $ LSP       : num  3 1 2 1 2 3 0 3 3 0 ...\n",
      " $ SD        : num  3 3 3 3 3 3 0 3 3 0 ...\n",
      " $ Activity  : num  1 1 1 1 1 1 1 1 1 1 ...\n",
      " $ Evoluation: num  3 3 3 2 1 2 3 3 2 3 ...\n",
      " $ Activity24: num  1 1 1 1 1 1 1 1 1 1 ...\n",
      " $ HC        : num  1 1 1 1 1 1 1 1 1 1 ...\n",
      " $ RHC       : num  1 2 2 1 2 2 2 2 2 2 ...\n",
      " $ Area      : num  1 1 1 1 1 1 1 1 1 1 ...\n",
      " $ ALS       : num  1 1 1 1 1 1 1 1 1 1 ...\n",
      " $ C_class   : num  0 0 0 0 0 0 0 0 1 0 ...\n",
      " $ M_class   : num  0 0 0 0 0 0 0 0 0 0 ...\n",
      " $ X_class   : num  0 0 0 0 0 0 0 0 0 0 ...\n",
      " - attr(*, \"spec\")=\n",
      "  .. cols(\n",
      "  ..   X1 = \u001b[31mcol_character()\u001b[39m,\n",
      "  ..   X2 = \u001b[31mcol_character()\u001b[39m,\n",
      "  ..   X3 = \u001b[31mcol_character()\u001b[39m,\n",
      "  ..   X4 = \u001b[32mcol_double()\u001b[39m,\n",
      "  ..   X5 = \u001b[32mcol_double()\u001b[39m,\n",
      "  ..   X6 = \u001b[32mcol_double()\u001b[39m,\n",
      "  ..   X7 = \u001b[32mcol_double()\u001b[39m,\n",
      "  ..   X8 = \u001b[32mcol_double()\u001b[39m,\n",
      "  ..   X9 = \u001b[32mcol_double()\u001b[39m,\n",
      "  ..   X10 = \u001b[32mcol_double()\u001b[39m,\n",
      "  ..   X11 = \u001b[32mcol_double()\u001b[39m,\n",
      "  ..   X12 = \u001b[32mcol_double()\u001b[39m,\n",
      "  ..   X13 = \u001b[32mcol_double()\u001b[39m\n",
      "  .. )\n"
     ]
    }
   ],
   "source": [
    "# correlation_preprocessing\n",
    "flare69_1 <- flare69\n",
    "flare69_1 <- within(flare69_1, {\n",
    "            Class = ifelse(flare69_1$Class == 'A', 0, \n",
    "                          ifelse(flare69_1$Class == 'B', 1,\n",
    "                                ifelse(flare69_1$Class == 'C', 2,\n",
    "                                      ifelse(flare69_1$Class == 'D', 3,\n",
    "                                            ifelse(flare69_1$Class == 'E', 4,\n",
    "                                                  ifelse(flare69_1$Class == 'F',5, 6\n",
    "                                                        ))))))\n",
    "            LSP = ifelse(flare69_1$LSP == 'X', 0,\n",
    "                         ifelse(flare69_1$LSP == 'R',1,\n",
    "                               ifelse(flare69_1$LSP == 'S', 2,\n",
    "                                     ifelse(flare69_1$LSP == 'A', 3,\n",
    "                                           ifelse(flare69_1$LSP=='H',4, 5)))))\n",
    "            SD = ifelse(flare69_1$LSP == 'X', 0,\n",
    "                        ifelse(flare69_1$LSP == 'O', 1,\n",
    "                              ifelse(flare69_1$LSP == 'I', 2, 3)))\n",
    "})\n",
    "head(flare69_1)\n",
    "str(flare69_1)\n",
    "\n",
    "flare78_1 <- flare78\n",
    "flare78_1 <- within(flare78_1, {\n",
    "            Class = ifelse(flare78_1$Class == 'A', 0, \n",
    "                          ifelse(flare78_1$Class == 'B', 1,\n",
    "                                ifelse(flare78_1$Class == 'C', 2,\n",
    "                                      ifelse(flare78_1$Class == 'D', 3,\n",
    "                                            ifelse(flare78_1$Class == 'E', 4,\n",
    "                                                  ifelse(flare78_1$Class == 'F',5, 6\n",
    "                                                        ))))))\n",
    "            LSP = ifelse(flare78_1$LSP == 'X', 0,\n",
    "                         ifelse(flare78_1$LSP == 'R',1,\n",
    "                               ifelse(flare78_1$LSP == 'S', 2,\n",
    "                                     ifelse(flare78_1$LSP == 'A', 3,\n",
    "                                           ifelse(flare78_1$LSP=='H',4, 5)))))\n",
    "            SD = ifelse(flare78_1$LSP == 'X', 0,\n",
    "                        ifelse(flare78_1$LSP == 'O', 1,\n",
    "                              ifelse(flare78_1$LSP == 'I', 2, 3)))\n",
    "})\n",
    "head(flare78_1)\n",
    "str(flare78_1)"
   ]
  },
  {
   "cell_type": "code",
   "execution_count": 20,
   "metadata": {},
   "outputs": [
    {
     "name": "stderr",
     "output_type": "stream",
     "text": [
      "Warning message in cor(flare78_1):\n",
      "\"표준편차가 0입니다\"\n"
     ]
    },
    {
     "data": {
      "image/png": "[encoded data removed]",
      "text/plain": [
       "Plot with title \"\""
      ]
     },
     "metadata": {
      "image/png": {
       "height": 420,
       "width": 420
      }
     },
     "output_type": "display_data"
    },
    {
     "data": {
      "image/png": "[encoded data removed]",
      "text/plain": [
       "Plot with title \"\""
      ]
     },
     "metadata": {
      "image/png": {
       "height": 420,
       "width": 420
      }
     },
     "output_type": "display_data"
    }
   ],
   "source": [
    "# correlation\n",
    "library(corrplot)\n",
    "flare69_cor <- cor(flare69_1)\n",
    "flare78_cor <- cor(flare78_1)\n",
    "\n",
    "corrplot(flare69_cor)\n",
    "corrplot(flare78_cor)"
   ]
  },
  {
   "cell_type": "markdown",
   "metadata": {},
   "source": [
    "# 3. Modeling"
   ]
  },
  {
   "cell_type": "markdown",
   "metadata": {},
   "source": [
    "<pre>\n",
    "출처\n",
    "solar fire datasets\n",
    "<a href = https://data.noaa.gov//metaview/page?xml=NOAA/NESDIS/NGDC/STP/Solar/iso/xml/solar-features_solar-flares.xml&view=getDataView&header=none>NOAA Solar features - Solar flares</a>\n",
    "<a href = https://ko.wikipedia.org/wiki/%EC%8D%AC%ED%94%8C%EB%A0%88%EC%96%B4>위키백과 썬플레어</a>\n",
    "<a href = http://archive.ics.uci.edu/ml/datasets/solar+flare>UCI Solar Flare data Set </a>\n",
    "\n",
    "</pre>"
   ]
  }
 ],
 "metadata": {
  "kernelspec": {
   "display_name": "R",
   "language": "R",
   "name": "ir"
  },
  "language_info": {
   "codemirror_mode": "r",
   "file_extension": ".r",
   "mimetype": "text/x-r-source",
   "name": "R",
   "pygments_lexer": "r",
   "version": "3.6.1"
  }
 },
 "nbformat": 4,
 "nbformat_minor": 4
}
