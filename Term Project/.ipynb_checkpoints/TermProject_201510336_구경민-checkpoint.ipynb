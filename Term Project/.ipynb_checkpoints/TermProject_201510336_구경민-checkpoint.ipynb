{
 "cells": [
  {
   "cell_type": "markdown",
   "metadata": {},
   "source": [
    "# 데이터분석과 R \n",
    "### Term Project\n",
    "<pre>\n",
    "산업정보시스템공학과 201510336\n",
    "구경민\n",
    "\n",
    "제출일: 2020.12.18.Fri.\n",
    "</pre>"
   ]
  },
  {
   "cell_type": "markdown",
   "metadata": {},
   "source": [
    "## 목차\n",
    "<pre style = \"font-weight: bold\">\n",
    "1. Solar flare data set\n",
    "2. Pre-processing & EDA  \n",
    "3. Modeling\n",
    "4. Conclusion\n",
    "</pre>"
   ]
  },
  {
   "cell_type": "markdown",
   "metadata": {},
   "source": [
    "# 1. Solar flare data set\n",
    "<pre>\n",
    "1.1 solar flare\n",
    " solar flare는 태양 흑점 근처에서 방출되는 복사 강도의 단기간동안 갑작스런 증가현상이다. solar flare는 수년 동안 H- 알파 파장에서 가장 잘 모니터링되었으며, 가끔 광구에서 백색광 플레어가 보이지만 색층에서 발생한다. 현대에서는 solar flare에 대해 위성을 통해 태양 X- 선 파장을 모니터링한다. flare는 몇 분 정도의 상승 시간과 수십 분 정도의 감쇠 시간이 특징이다. 일반적인 플레어에서 소비되는 총 에너지는 약 1030 에르그이며, 자기장은 100 ~ 10,000 가우스의 값에 도달하는 매우 높은 수준이다. H- 알파의 광학 플레어는 일반적으로 무선 및 X- 선 폭발을 동반하며 때로는 고 에너지 입자 방출을 동반한다.\n",
    " flare의 광학 밝기와 크기는 \"중요도\"라는 두 문자 코드로 표시된다. 첫 번째 문자 인 1에서 4까지의 숫자는 명백한 영역을 나타낸다. 1보다 작은 영역의 경우 \"S\"가 하위 플레어를 지정하는 데 사용된다. 두 번째 문자는 상대적 밝기를 나타낸다. B는 밝음, N은 보통, F는 희미 함을 나타낸다. 이번 텀 프로젝트를 통해 흑점에 크기와 관련한 변수를 통해 흑점 크기를 분류하는 모델을 통해 흑점의 크기가 어떤 요인에 따라 변화되는지 알아보려고 한다.\n",
    "\n",
    "1.2 Dataset 설명\n",
    "flare 데이터는 2개의 데이터로 나뉘어져 있고(flare1, flare2) 여기서는 데이터변수를 flare1을 1969년 데이터라는 뜻으로 falre69 명명하고 1969년 데이터만 이용한다. 그리고 각 instance는 태양의 한번 활동한 영역 1개에 대한 feature다.\n",
    "\n",
    "1.3 Attribute 설명\n",
    "Class: Code for class (modified Zurich class), A,B,C,D,E,F,H로 구성\n",
    "LSP: Code for largest spot size, X,R,S,A,H,K로 구성\n",
    "SD: Code for spot distribution, X,O,I,C로 구성\n",
    "Activity: 1 = reduced, 2 = unchanged\n",
    "Evoluation: 1 = decay, 2 = no growth, 3 = growth\n",
    "Activity24: Previous 24 hour flare activity code (1 = nothing as big as an M1, 2 = one M1, 3 = more activity than one M1)\n",
    "HC: Historically-complex (1 = Yes, 2 = No)\n",
    "RHC: Did region become historically complex  (1 = yes, 2 = no) on this pass across the sun's disk\n",
    "Area: 1 = small, 2 = large\n",
    "ALS: Area of the largest spot (1 = <=5, 2 = >5)\n",
    "아래는 추가변수들이다.\n",
    "C_class: C-class flares production by this region in the following 24 hours (common flares); Number\n",
    "M_class: M-class flares production by this region in the following 24 hours (moderate flares); Number\n",
    "X_class: X-class flares production by this region in the following 24 hours (severe flares); Number\n",
    "\n",
    "</pre>"
   ]
  },
  {
   "cell_type": "code",
   "execution_count": 35,
   "metadata": {},
   "outputs": [],
   "source": [
    "library(dplyr)\n",
    "library(caret)\n",
    "library(ggplot2)"
   ]
  },
  {
   "cell_type": "markdown",
   "metadata": {},
   "source": [
    "<pre>\n",
    " dplyr은 전처리를 위한 도구, caret은 나이브베이지안 등 여러 분석 툴, ggplot2는 시각화를 위해 로드하였다.\n",
    "</pre>"
   ]
  },
  {
   "cell_type": "code",
   "execution_count": 36,
   "metadata": {},
   "outputs": [
    {
     "name": "stderr",
     "output_type": "stream",
     "text": [
      "\n",
      "\u001b[36m--\u001b[39m \u001b[1m\u001b[1mColumn specification\u001b[1m\u001b[22m \u001b[36m--------------------------------------------------------\u001b[39m\n",
      "cols(\n",
      "  X1 = \u001b[31mcol_character()\u001b[39m,\n",
      "  X2 = \u001b[31mcol_character()\u001b[39m,\n",
      "  X3 = \u001b[31mcol_character()\u001b[39m,\n",
      "  X4 = \u001b[32mcol_double()\u001b[39m,\n",
      "  X5 = \u001b[32mcol_double()\u001b[39m,\n",
      "  X6 = \u001b[32mcol_double()\u001b[39m,\n",
      "  X7 = \u001b[32mcol_double()\u001b[39m,\n",
      "  X8 = \u001b[32mcol_double()\u001b[39m,\n",
      "  X9 = \u001b[32mcol_double()\u001b[39m,\n",
      "  X10 = \u001b[32mcol_double()\u001b[39m,\n",
      "  X11 = \u001b[32mcol_double()\u001b[39m,\n",
      "  X12 = \u001b[32mcol_double()\u001b[39m,\n",
      "  X13 = \u001b[32mcol_double()\u001b[39m\n",
      ")\n",
      "\n",
      "\n"
     ]
    }
   ],
   "source": [
    "library(readr)\n",
    "flare69 <- read_table2(\"C:/Users/user/Desktop/비대면/데분알/MiddleTest/DataAnalysis_with_R/Term Project/flare.data1\",\n",
    "                      col_names = FALSE)"
   ]
  },
  {
   "cell_type": "markdown",
   "metadata": {},
   "source": [
    "# 2. Pre-processing & EDA\n",
    "2.1 Pre-processing"
   ]
  },
  {
   "cell_type": "markdown",
   "metadata": {},
   "source": [
    "<pre>\n",
    " 먼저 데이터 컬럼에 이름을 부여하고, head()를 이용해서 데이터 상위 6개를 확인한다. \n",
    "</pre>"
   ]
  },
  {
   "cell_type": "code",
   "execution_count": 37,
   "metadata": {},
   "outputs": [
    {
     "data": {
      "text/html": [
       "<table>\n",
       "<caption>A tibble: 6 × 13</caption>\n",
       "<thead>\n",
       "\t<tr><th scope=col>Class</th><th scope=col>LSP</th><th scope=col>SD</th><th scope=col>Activity</th><th scope=col>Evoluation</th><th scope=col>Activity24</th><th scope=col>HC</th><th scope=col>RHC</th><th scope=col>Area</th><th scope=col>ALS</th><th scope=col>C_class</th><th scope=col>M_class</th><th scope=col>X_class</th></tr>\n",
       "\t<tr><th scope=col>&lt;chr&gt;</th><th scope=col>&lt;chr&gt;</th><th scope=col>&lt;chr&gt;</th><th scope=col>&lt;dbl&gt;</th><th scope=col>&lt;dbl&gt;</th><th scope=col>&lt;dbl&gt;</th><th scope=col>&lt;dbl&gt;</th><th scope=col>&lt;dbl&gt;</th><th scope=col>&lt;dbl&gt;</th><th scope=col>&lt;dbl&gt;</th><th scope=col>&lt;dbl&gt;</th><th scope=col>&lt;dbl&gt;</th><th scope=col>&lt;dbl&gt;</th></tr>\n",
       "</thead>\n",
       "<tbody>\n",
       "\t<tr><td>C</td><td>S</td><td>O</td><td>1</td><td>2</td><td>1</td><td>1</td><td>2</td><td>1</td><td>2</td><td>0</td><td>0</td><td>0</td></tr>\n",
       "\t<tr><td>D</td><td>S</td><td>O</td><td>1</td><td>3</td><td>1</td><td>1</td><td>2</td><td>1</td><td>2</td><td>0</td><td>0</td><td>0</td></tr>\n",
       "\t<tr><td>C</td><td>S</td><td>O</td><td>1</td><td>3</td><td>1</td><td>1</td><td>2</td><td>1</td><td>1</td><td>0</td><td>0</td><td>0</td></tr>\n",
       "\t<tr><td>D</td><td>S</td><td>O</td><td>1</td><td>3</td><td>1</td><td>1</td><td>2</td><td>1</td><td>2</td><td>0</td><td>0</td><td>0</td></tr>\n",
       "\t<tr><td>D</td><td>A</td><td>O</td><td>1</td><td>3</td><td>1</td><td>1</td><td>2</td><td>1</td><td>2</td><td>0</td><td>0</td><td>0</td></tr>\n",
       "\t<tr><td>D</td><td>A</td><td>O</td><td>1</td><td>2</td><td>1</td><td>1</td><td>2</td><td>1</td><td>2</td><td>0</td><td>0</td><td>0</td></tr>\n",
       "</tbody>\n",
       "</table>\n"
      ],
      "text/latex": [
       "A tibble: 6 × 13\n",
       "\\begin{tabular}{lllllllllllll}\n",
       " Class & LSP & SD & Activity & Evoluation & Activity24 & HC & RHC & Area & ALS & C\\_class & M\\_class & X\\_class\\\\\n",
       " <chr> & <chr> & <chr> & <dbl> & <dbl> & <dbl> & <dbl> & <dbl> & <dbl> & <dbl> & <dbl> & <dbl> & <dbl>\\\\\n",
       "\\hline\n",
       "\t C & S & O & 1 & 2 & 1 & 1 & 2 & 1 & 2 & 0 & 0 & 0\\\\\n",
       "\t D & S & O & 1 & 3 & 1 & 1 & 2 & 1 & 2 & 0 & 0 & 0\\\\\n",
       "\t C & S & O & 1 & 3 & 1 & 1 & 2 & 1 & 1 & 0 & 0 & 0\\\\\n",
       "\t D & S & O & 1 & 3 & 1 & 1 & 2 & 1 & 2 & 0 & 0 & 0\\\\\n",
       "\t D & A & O & 1 & 3 & 1 & 1 & 2 & 1 & 2 & 0 & 0 & 0\\\\\n",
       "\t D & A & O & 1 & 2 & 1 & 1 & 2 & 1 & 2 & 0 & 0 & 0\\\\\n",
       "\\end{tabular}\n"
      ],
      "text/markdown": [
       "\n",
       "A tibble: 6 × 13\n",
       "\n",
       "| Class &lt;chr&gt; | LSP &lt;chr&gt; | SD &lt;chr&gt; | Activity &lt;dbl&gt; | Evoluation &lt;dbl&gt; | Activity24 &lt;dbl&gt; | HC &lt;dbl&gt; | RHC &lt;dbl&gt; | Area &lt;dbl&gt; | ALS &lt;dbl&gt; | C_class &lt;dbl&gt; | M_class &lt;dbl&gt; | X_class &lt;dbl&gt; |\n",
       "|---|---|---|---|---|---|---|---|---|---|---|---|---|\n",
       "| C | S | O | 1 | 2 | 1 | 1 | 2 | 1 | 2 | 0 | 0 | 0 |\n",
       "| D | S | O | 1 | 3 | 1 | 1 | 2 | 1 | 2 | 0 | 0 | 0 |\n",
       "| C | S | O | 1 | 3 | 1 | 1 | 2 | 1 | 1 | 0 | 0 | 0 |\n",
       "| D | S | O | 1 | 3 | 1 | 1 | 2 | 1 | 2 | 0 | 0 | 0 |\n",
       "| D | A | O | 1 | 3 | 1 | 1 | 2 | 1 | 2 | 0 | 0 | 0 |\n",
       "| D | A | O | 1 | 2 | 1 | 1 | 2 | 1 | 2 | 0 | 0 | 0 |\n",
       "\n"
      ],
      "text/plain": [
       "  Class LSP SD Activity Evoluation Activity24 HC RHC Area ALS C_class M_class\n",
       "1 C     S   O  1        2          1          1  2   1    2   0       0      \n",
       "2 D     S   O  1        3          1          1  2   1    2   0       0      \n",
       "3 C     S   O  1        3          1          1  2   1    1   0       0      \n",
       "4 D     S   O  1        3          1          1  2   1    2   0       0      \n",
       "5 D     A   O  1        3          1          1  2   1    2   0       0      \n",
       "6 D     A   O  1        2          1          1  2   1    2   0       0      \n",
       "  X_class\n",
       "1 0      \n",
       "2 0      \n",
       "3 0      \n",
       "4 0      \n",
       "5 0      \n",
       "6 0      "
      ]
     },
     "metadata": {},
     "output_type": "display_data"
    }
   ],
   "source": [
    "names(flare69) <- c('Class','LSP','SD','Activity',\n",
    "                    'Evoluation','Activity24','HC',\n",
    "                    'RHC','Area','ALS', 'C_class', 'M_class', 'X_class')\n",
    "head(flare69)"
   ]
  },
  {
   "cell_type": "markdown",
   "metadata": {},
   "source": [
    "<pre>\n",
    " str()을 이용해서 두 데이터의 구조를 확인한다.\n",
    "</pre>"
   ]
  },
  {
   "cell_type": "code",
   "execution_count": 38,
   "metadata": {
    "scrolled": false
   },
   "outputs": [
    {
     "name": "stdout",
     "output_type": "stream",
     "text": [
      "[1] \"flare69 summary\"\n"
     ]
    },
    {
     "data": {
      "text/plain": [
       "    Class               LSP                 SD               Activity    \n",
       " Length:323         Length:323         Length:323         Min.   :1.000  \n",
       " Class :character   Class :character   Class :character   1st Qu.:1.000  \n",
       " Mode  :character   Mode  :character   Mode  :character   Median :1.000  \n",
       "                                                          Mean   :1.139  \n",
       "                                                          3rd Qu.:1.000  \n",
       "                                                          Max.   :2.000  \n",
       "   Evoluation      Activity24          HC             RHC       \n",
       " Min.   :1.000   Min.   :1.000   Min.   :1.000   Min.   :1.000  \n",
       " 1st Qu.:2.000   1st Qu.:1.000   1st Qu.:1.000   1st Qu.:2.000  \n",
       " Median :3.000   Median :1.000   Median :1.000   Median :2.000  \n",
       " Mean   :2.486   Mean   :1.192   Mean   :1.368   Mean   :1.947  \n",
       " 3rd Qu.:3.000   3rd Qu.:1.000   3rd Qu.:2.000   3rd Qu.:2.000  \n",
       " Max.   :3.000   Max.   :3.000   Max.   :2.000   Max.   :2.000  \n",
       "      Area            ALS           C_class          M_class      \n",
       " Min.   :1.000   Min.   :1.000   Min.   :0.0000   Min.   :0.0000  \n",
       " 1st Qu.:1.000   1st Qu.:2.000   1st Qu.:0.0000   1st Qu.:0.0000  \n",
       " Median :1.000   Median :2.000   Median :0.0000   Median :0.0000  \n",
       " Mean   :1.028   Mean   :1.755   Mean   :0.1331   Mean   :0.1362  \n",
       " 3rd Qu.:1.000   3rd Qu.:2.000   3rd Qu.:0.0000   3rd Qu.:0.0000  \n",
       " Max.   :2.000   Max.   :2.000   Max.   :2.0000   Max.   :4.0000  \n",
       "    X_class       \n",
       " Min.   :0.00000  \n",
       " 1st Qu.:0.00000  \n",
       " Median :0.00000  \n",
       " Mean   :0.02167  \n",
       " 3rd Qu.:0.00000  \n",
       " Max.   :1.00000  "
      ]
     },
     "metadata": {},
     "output_type": "display_data"
    },
    {
     "name": "stdout",
     "output_type": "stream",
     "text": [
      "[1] \"flare69 str\"\n",
      "Classes 'spec_tbl_df', 'tbl_df', 'tbl' and 'data.frame':\t323 obs. of  13 variables:\n",
      " $ Class     : chr  \"C\" \"D\" \"C\" \"D\" ...\n",
      " $ LSP       : chr  \"S\" \"S\" \"S\" \"S\" ...\n",
      " $ SD        : chr  \"O\" \"O\" \"O\" \"O\" ...\n",
      " $ Activity  : num  1 1 1 1 1 1 1 1 1 1 ...\n",
      " $ Evoluation: num  2 3 3 3 3 2 2 2 3 3 ...\n",
      " $ Activity24: num  1 1 1 1 1 1 1 1 1 1 ...\n",
      " $ HC        : num  1 1 1 1 1 1 1 1 1 1 ...\n",
      " $ RHC       : num  2 2 2 2 2 2 2 2 2 2 ...\n",
      " $ Area      : num  1 1 1 1 1 1 1 1 1 1 ...\n",
      " $ ALS       : num  2 2 1 2 2 2 1 2 2 1 ...\n",
      " $ C_class   : num  0 0 0 0 0 0 0 0 0 0 ...\n",
      " $ M_class   : num  0 0 0 0 0 0 0 0 0 0 ...\n",
      " $ X_class   : num  0 0 0 0 0 0 0 0 0 0 ...\n",
      " - attr(*, \"spec\")=\n",
      "  .. cols(\n",
      "  ..   X1 = \u001b[31mcol_character()\u001b[39m,\n",
      "  ..   X2 = \u001b[31mcol_character()\u001b[39m,\n",
      "  ..   X3 = \u001b[31mcol_character()\u001b[39m,\n",
      "  ..   X4 = \u001b[32mcol_double()\u001b[39m,\n",
      "  ..   X5 = \u001b[32mcol_double()\u001b[39m,\n",
      "  ..   X6 = \u001b[32mcol_double()\u001b[39m,\n",
      "  ..   X7 = \u001b[32mcol_double()\u001b[39m,\n",
      "  ..   X8 = \u001b[32mcol_double()\u001b[39m,\n",
      "  ..   X9 = \u001b[32mcol_double()\u001b[39m,\n",
      "  ..   X10 = \u001b[32mcol_double()\u001b[39m,\n",
      "  ..   X11 = \u001b[32mcol_double()\u001b[39m,\n",
      "  ..   X12 = \u001b[32mcol_double()\u001b[39m,\n",
      "  ..   X13 = \u001b[32mcol_double()\u001b[39m\n",
      "  .. )\n"
     ]
    }
   ],
   "source": [
    "print(\"flare69 summary\")\n",
    "summary(flare69)\n",
    "print(\"flare69 str\")\n",
    "str(flare69)"
   ]
  },
  {
   "cell_type": "markdown",
   "metadata": {},
   "source": [
    "<pre>\n",
    " 요인변수(factor)형이여야 하는 변수 class, LSP, SD가 char형이기에 as.factor를 이용해서 factor형으로 바꿔주고 다시 구조를 파악한다.\n",
    "</pre>"
   ]
  },
  {
   "cell_type": "code",
   "execution_count": 57,
   "metadata": {},
   "outputs": [
    {
     "name": "stdout",
     "output_type": "stream",
     "text": [
      "Classes 'spec_tbl_df', 'tbl_df', 'tbl' and 'data.frame':\t323 obs. of  13 variables:\n",
      " $ Class     : Factor w/ 6 levels \"B\",\"C\",\"D\",\"E\",..: 2 3 2 3 3 3 3 3 3 2 ...\n",
      " $ LSP       : Factor w/ 6 levels \"A\",\"H\",\"K\",\"R\",..: 5 5 5 5 1 1 1 1 3 4 ...\n",
      " $ SD        : Factor w/ 4 levels \"C\",\"I\",\"O\",\"X\": 3 3 3 3 3 3 3 3 3 3 ...\n",
      " $ Activity  : num  1 1 1 1 1 1 1 1 1 1 ...\n",
      " $ Evoluation: num  2 3 3 3 3 2 2 2 3 3 ...\n",
      " $ Activity24: num  1 1 1 1 1 1 1 1 1 1 ...\n",
      " $ HC        : num  1 1 1 1 1 1 1 1 1 1 ...\n",
      " $ RHC       : num  2 2 2 2 2 2 2 2 2 2 ...\n",
      " $ Area      : num  1 1 1 1 1 1 1 1 1 1 ...\n",
      " $ ALS       : num  2 2 1 2 2 2 1 2 2 1 ...\n",
      " $ C_class   : num  0 0 0 0 0 0 0 0 0 0 ...\n",
      " $ M_class   : num  0 0 0 0 0 0 0 0 0 0 ...\n",
      " $ X_class   : num  0 0 0 0 0 0 0 0 0 0 ...\n",
      " - attr(*, \"spec\")=\n",
      "  .. cols(\n",
      "  ..   X1 = \u001b[31mcol_character()\u001b[39m,\n",
      "  ..   X2 = \u001b[31mcol_character()\u001b[39m,\n",
      "  ..   X3 = \u001b[31mcol_character()\u001b[39m,\n",
      "  ..   X4 = \u001b[32mcol_double()\u001b[39m,\n",
      "  ..   X5 = \u001b[32mcol_double()\u001b[39m,\n",
      "  ..   X6 = \u001b[32mcol_double()\u001b[39m,\n",
      "  ..   X7 = \u001b[32mcol_double()\u001b[39m,\n",
      "  ..   X8 = \u001b[32mcol_double()\u001b[39m,\n",
      "  ..   X9 = \u001b[32mcol_double()\u001b[39m,\n",
      "  ..   X10 = \u001b[32mcol_double()\u001b[39m,\n",
      "  ..   X11 = \u001b[32mcol_double()\u001b[39m,\n",
      "  ..   X12 = \u001b[32mcol_double()\u001b[39m,\n",
      "  ..   X13 = \u001b[32mcol_double()\u001b[39m\n",
      "  .. )\n",
      "Classes 'spec_tbl_df', 'tbl_df', 'tbl' and 'data.frame':\t1066 obs. of  13 variables:\n",
      " $ Class     : Factor w/ 6 levels \"B\",\"C\",\"D\",\"E\",..: 6 3 2 6 6 2 1 2 2 1 ...\n",
      " $ LSP       : Factor w/ 6 levels \"A\",\"H\",\"K\",\"R\",..: 1 4 5 4 5 1 6 1 1 6 ...\n",
      " $ SD        : Factor w/ 4 levels \"C\",\"I\",\"O\",\"X\": 4 3 3 4 4 3 3 3 3 3 ...\n",
      " $ Activity  : num  1 1 1 1 1 1 1 1 1 1 ...\n",
      " $ Evoluation: num  3 3 3 2 1 2 3 3 2 3 ...\n",
      " $ Activity24: num  1 1 1 1 1 1 1 1 1 1 ...\n",
      " $ HC        : num  1 1 1 1 1 1 1 1 1 1 ...\n",
      " $ RHC       : num  1 2 2 1 2 2 2 2 2 2 ...\n",
      " $ Area      : num  1 1 1 1 1 1 1 1 1 1 ...\n",
      " $ ALS       : num  1 1 1 1 1 1 1 1 1 1 ...\n",
      " $ C_class   : num  0 0 0 0 0 0 0 0 1 0 ...\n",
      " $ M_class   : num  0 0 0 0 0 0 0 0 0 0 ...\n",
      " $ X_class   : num  0 0 0 0 0 0 0 0 0 0 ...\n",
      " - attr(*, \"spec\")=\n",
      "  .. cols(\n",
      "  ..   X1 = \u001b[31mcol_character()\u001b[39m,\n",
      "  ..   X2 = \u001b[31mcol_character()\u001b[39m,\n",
      "  ..   X3 = \u001b[31mcol_character()\u001b[39m,\n",
      "  ..   X4 = \u001b[32mcol_double()\u001b[39m,\n",
      "  ..   X5 = \u001b[32mcol_double()\u001b[39m,\n",
      "  ..   X6 = \u001b[32mcol_double()\u001b[39m,\n",
      "  ..   X7 = \u001b[32mcol_double()\u001b[39m,\n",
      "  ..   X8 = \u001b[32mcol_double()\u001b[39m,\n",
      "  ..   X9 = \u001b[32mcol_double()\u001b[39m,\n",
      "  ..   X10 = \u001b[32mcol_double()\u001b[39m,\n",
      "  ..   X11 = \u001b[32mcol_double()\u001b[39m,\n",
      "  ..   X12 = \u001b[32mcol_double()\u001b[39m,\n",
      "  ..   X13 = \u001b[32mcol_double()\u001b[39m\n",
      "  .. )\n"
     ]
    }
   ],
   "source": [
    "flare69$Class <- as.factor(flare69$Class)\n",
    "flare69$LSP <- as.factor(flare69$LSP)\n",
    "flare69$SD <- as.factor(flare69$SD)\n",
    "\n",
    "str(flare69)\n",
    "str(flare78)"
   ]
  },
  {
   "cell_type": "markdown",
   "metadata": {},
   "source": [
    "<pre>\n",
    "  데이터 구조를 확인하였으니 각 변수의 결측치와 이상치를 확인한다.\n",
    "</pre>"
   ]
  },
  {
   "cell_type": "code",
   "execution_count": 40,
   "metadata": {},
   "outputs": [
    {
     "data": {
      "text/plain": [
       "\n",
       "FALSE \n",
       " 4199 "
      ]
     },
     "metadata": {},
     "output_type": "display_data"
    },
    {
     "data": {
      "text/plain": [
       "\n",
       "FALSE \n",
       "13858 "
      ]
     },
     "metadata": {},
     "output_type": "display_data"
    }
   ],
   "source": [
    "# 결측치 빈도확인\n",
    "table(is.na(flare69))\n",
    "table(is.na(flare78))"
   ]
  },
  {
   "cell_type": "markdown",
   "metadata": {},
   "source": [
    "<pre>\n",
    " 결측치가 없는 것을 확인할 수 있다.\n",
    "</pre>"
   ]
  },
  {
   "cell_type": "markdown",
   "metadata": {},
   "source": [
    "<pre>\n",
    "2.2 EDA\n",
    " 2.1에서 전처리에서 데이터의 특징과 결측치의 유무를 확인하고 factor형으로 변환할 변수는 변환하였다. 다음은 상자그림을 통해 이상치를 파악하고, 모자이크 그림을 통해 빈도의 비례가 어떻게 되는지 파악한 다음에 상관분석을 통해 데이터간의 상관관계를 파악한다.\n",
    "</pre>"
   ]
  },
  {
   "cell_type": "code",
   "execution_count": 41,
   "metadata": {},
   "outputs": [
    {
     "data": {
      "image/png": "[encoded data removed]",
      "text/plain": [
       "Plot with title \"Flare69 boxplot\""
      ]
     },
     "metadata": {
      "image/png": {
       "height": 420,
       "width": 420
      }
     },
     "output_type": "display_data"
    }
   ],
   "source": [
    "# 이상치 확인을 위한 boxplot \n",
    "boxplot(flare69$Activity, flare69$Evoluation, flare69$Activity24, \n",
    "        flare69$HC, flare69$RHC, flare69$Area, flare69$ALS, flare69$C_class, \n",
    "        flare69$M_class, flare69$X_class,\n",
    "       main='Flare69 boxplot')"
   ]
  },
  {
   "cell_type": "markdown",
   "metadata": {},
   "source": [
    "<pre>\n",
    " 각 변수에서 이상치가 나왔지만, 이상치의 데이터도 확인하면 4, 3, 2, 1 등 조사를 통해 낸 의미있는 데이터로 삭제하면 안된다. 결측치 제거는 넘어가는 것으로 했다.\n",
    " 그 다음으로 변수간의 상관관계를 알기 위한 상관분석에 앞서 flare69_1, flare78_1 변수에 각각 flare69와 flare78로 데이터를 복사해주고, factor인 변수를 numeric으로 변환한다. class의 A,B,C,D,E,F,H는 0,1,2,3,4,5,6으로 LSP의 X,R,S,A,H,K는 0,1,2,3,4,5로, SD의 X,O,I,C는 0,1,2,3으로 변환하여 상관분석을 행한다.\n",
    "</pre>"
   ]
  },
  {
   "cell_type": "code",
   "execution_count": 43,
   "metadata": {},
   "outputs": [
    {
     "name": "stdout",
     "output_type": "stream",
     "text": [
      "Classes 'spec_tbl_df', 'tbl_df', 'tbl' and 'data.frame':\t323 obs. of  13 variables:\n",
      " $ Class     : num  2 3 2 3 3 3 3 3 3 2 ...\n",
      " $ LSP       : num  2 2 2 2 3 3 3 3 5 1 ...\n",
      " $ SD        : num  3 3 3 3 3 3 3 3 3 3 ...\n",
      " $ Activity  : num  1 1 1 1 1 1 1 1 1 1 ...\n",
      " $ Evoluation: num  2 3 3 3 3 2 2 2 3 3 ...\n",
      " $ Activity24: num  1 1 1 1 1 1 1 1 1 1 ...\n",
      " $ HC        : num  1 1 1 1 1 1 1 1 1 1 ...\n",
      " $ RHC       : num  2 2 2 2 2 2 2 2 2 2 ...\n",
      " $ Area      : num  1 1 1 1 1 1 1 1 1 1 ...\n",
      " $ ALS       : num  2 2 1 2 2 2 1 2 2 1 ...\n",
      " $ C_class   : num  0 0 0 0 0 0 0 0 0 0 ...\n",
      " $ M_class   : num  0 0 0 0 0 0 0 0 0 0 ...\n",
      " $ X_class   : num  0 0 0 0 0 0 0 0 0 0 ...\n",
      " - attr(*, \"spec\")=\n",
      "  .. cols(\n",
      "  ..   X1 = \u001b[31mcol_character()\u001b[39m,\n",
      "  ..   X2 = \u001b[31mcol_character()\u001b[39m,\n",
      "  ..   X3 = \u001b[31mcol_character()\u001b[39m,\n",
      "  ..   X4 = \u001b[32mcol_double()\u001b[39m,\n",
      "  ..   X5 = \u001b[32mcol_double()\u001b[39m,\n",
      "  ..   X6 = \u001b[32mcol_double()\u001b[39m,\n",
      "  ..   X7 = \u001b[32mcol_double()\u001b[39m,\n",
      "  ..   X8 = \u001b[32mcol_double()\u001b[39m,\n",
      "  ..   X9 = \u001b[32mcol_double()\u001b[39m,\n",
      "  ..   X10 = \u001b[32mcol_double()\u001b[39m,\n",
      "  ..   X11 = \u001b[32mcol_double()\u001b[39m,\n",
      "  ..   X12 = \u001b[32mcol_double()\u001b[39m,\n",
      "  ..   X13 = \u001b[32mcol_double()\u001b[39m\n",
      "  .. )\n"
     ]
    }
   ],
   "source": [
    "# correlation_preprocessing\n",
    "flare69_1 <- flare69\n",
    "flare69_1 <- within(flare69_1, {\n",
    "            Class = ifelse(flare69_1$Class == 'A', 0, \n",
    "                          ifelse(flare69_1$Class == 'B', 1,\n",
    "                                ifelse(flare69_1$Class == 'C', 2,\n",
    "                                      ifelse(flare69_1$Class == 'D', 3,\n",
    "                                            ifelse(flare69_1$Class == 'E', 4,\n",
    "                                                  ifelse(flare69_1$Class == 'F',5, 6\n",
    "                                                        ))))))\n",
    "            LSP = ifelse(flare69_1$LSP == 'X', 0,\n",
    "                         ifelse(flare69_1$LSP == 'R',1,\n",
    "                               ifelse(flare69_1$LSP == 'S', 2,\n",
    "                                     ifelse(flare69_1$LSP == 'A', 3,\n",
    "                                           ifelse(flare69_1$LSP=='H',4, 5)))))\n",
    "            SD = ifelse(flare69_1$LSP == 'X', 0,\n",
    "                        ifelse(flare69_1$LSP == 'O', 1,\n",
    "                              ifelse(flare69_1$LSP == 'I', 2, 3)))\n",
    "})\n",
    "\n",
    "str(flare69_1)"
   ]
  },
  {
   "cell_type": "code",
   "execution_count": 44,
   "metadata": {},
   "outputs": [
    {
     "data": {
      "image/png": "[encoded data removed]",
      "text/plain": [
       "Plot with title \"\""
      ]
     },
     "metadata": {
      "image/png": {
       "height": 420,
       "width": 420
      }
     },
     "output_type": "display_data"
    }
   ],
   "source": [
    "# correlation\n",
    "library(corrplot)\n",
    "flare69_cor <- cor(flare69_1)\n",
    "\n",
    "corrplot(flare69_cor)"
   ]
  },
  {
   "cell_type": "code",
   "execution_count": 45,
   "metadata": {},
   "outputs": [
    {
     "data": {
      "text/plain": [
       "\n",
       "\tPearson's product-moment correlation\n",
       "\n",
       "data:  flare69_1$LSP and flare69_1$SD\n",
       "t = 16.884, df = 321, p-value < 2.2e-16\n",
       "alternative hypothesis: true correlation is not equal to 0\n",
       "95 percent confidence interval:\n",
       " 0.6233478 0.7395985\n",
       "sample estimates:\n",
       "      cor \n",
       "0.6858235 \n"
      ]
     },
     "metadata": {},
     "output_type": "display_data"
    },
    {
     "data": {
      "text/plain": [
       "\n",
       "\tPearson's product-moment correlation\n",
       "\n",
       "data:  flare69_1$LSP and flare69_1$HC\n",
       "t = 10.774, df = 321, p-value < 2.2e-16\n",
       "alternative hypothesis: true correlation is not equal to 0\n",
       "95 percent confidence interval:\n",
       " 0.430415 0.591218\n",
       "sample estimates:\n",
       "      cor \n",
       "0.5153381 \n"
      ]
     },
     "metadata": {},
     "output_type": "display_data"
    },
    {
     "data": {
      "text/plain": [
       "\n",
       "\tPearson's product-moment correlation\n",
       "\n",
       "data:  flare69_1$LSP and flare69_1$ALS\n",
       "t = 10.041, df = 321, p-value < 2.2e-16\n",
       "alternative hypothesis: true correlation is not equal to 0\n",
       "95 percent confidence interval:\n",
       " 0.4011765 0.5677396\n",
       "sample estimates:\n",
       "      cor \n",
       "0.4889014 \n"
      ]
     },
     "metadata": {},
     "output_type": "display_data"
    }
   ],
   "source": [
    "# correlation test (LSD and SD, HC, ALS)\n",
    "cor.test(flare69_1$LSP, flare69_1$SD)\n",
    "cor.test(flare69_1$LSP, flare69_1$HC)\n",
    "cor.test(flare69_1$LSP, flare69_1$ALS)"
   ]
  },
  {
   "cell_type": "markdown",
   "metadata": {},
   "source": [
    "<pre>\n",
    " LSP와 상관성이 있어 보이는 SD, HC, ALS 변수를 각각 상관분석을 행했을 때 유의수준보다 한참 낮은 값이 나왔기에 상관성이 있다고 알 수있다.\n",
    "</pre>"
   ]
  },
  {
   "cell_type": "markdown",
   "metadata": {},
   "source": [
    "# 3. Modeling"
   ]
  },
  {
   "cell_type": "markdown",
   "metadata": {},
   "source": [
    "## 3.1 흑점의 크기 분류를 위한 의사결정 나무\n",
    "<pre>\n",
    " 앞에서 상관분석을 한 결과 flare69 데이터에서 LSP(code for largest spot size)와, SD(code for spot distribution), HC(Historically-complex), ALS(Area of the largest spot)이 상관성을 보였다. 이에 이 변수를 이용하여 흑점의 크기를 분류하는 모델링 하여 insight를 도출한다. LSP는 이진이 아닌 명목변수로 되어있다. 즉, 종속변수 y가 이진변수여야 하는 logistic regression은 사용할 수 없다. 여기서는 명목변수가 이진이 아니어도 분류할 수 있는 의사결정 나무와 나이브베이지안 분류를 이용하여 모델링을 한 후, 성능을 비교하여 둘 중 가장 우수한 모델을 선택하여 insight를 도출한다.\n",
    " 의사결정 나무를 모델링하기 위해서 먼저 데이터를 학습데이터와 검증데이터를 분류해야한다. LSP와 상관성이 있는 데이터만 추출하고, 학습데이터, 검증데이터를 각 7:3으로 구분한 후에 모델링을 실시한다.\n",
    "</pre>"
   ]
  },
  {
   "cell_type": "code",
   "execution_count": 47,
   "metadata": {},
   "outputs": [
    {
     "data": {
      "text/html": [
       "<table>\n",
       "<caption>A tibble: 6 × 4</caption>\n",
       "<thead>\n",
       "\t<tr><th scope=col>LSP</th><th scope=col>SD</th><th scope=col>HC</th><th scope=col>ALS</th></tr>\n",
       "\t<tr><th scope=col>&lt;fct&gt;</th><th scope=col>&lt;fct&gt;</th><th scope=col>&lt;dbl&gt;</th><th scope=col>&lt;dbl&gt;</th></tr>\n",
       "</thead>\n",
       "<tbody>\n",
       "\t<tr><td>S</td><td>O</td><td>1</td><td>2</td></tr>\n",
       "\t<tr><td>X</td><td>O</td><td>1</td><td>1</td></tr>\n",
       "\t<tr><td>A</td><td>I</td><td>2</td><td>1</td></tr>\n",
       "\t<tr><td>A</td><td>I</td><td>2</td><td>2</td></tr>\n",
       "\t<tr><td>K</td><td>X</td><td>2</td><td>2</td></tr>\n",
       "\t<tr><td>A</td><td>X</td><td>2</td><td>2</td></tr>\n",
       "</tbody>\n",
       "</table>\n"
      ],
      "text/latex": [
       "A tibble: 6 × 4\n",
       "\\begin{tabular}{llll}\n",
       " LSP & SD & HC & ALS\\\\\n",
       " <fct> & <fct> & <dbl> & <dbl>\\\\\n",
       "\\hline\n",
       "\t S & O & 1 & 2\\\\\n",
       "\t X & O & 1 & 1\\\\\n",
       "\t A & I & 2 & 1\\\\\n",
       "\t A & I & 2 & 2\\\\\n",
       "\t K & X & 2 & 2\\\\\n",
       "\t A & X & 2 & 2\\\\\n",
       "\\end{tabular}\n"
      ],
      "text/markdown": [
       "\n",
       "A tibble: 6 × 4\n",
       "\n",
       "| LSP &lt;fct&gt; | SD &lt;fct&gt; | HC &lt;dbl&gt; | ALS &lt;dbl&gt; |\n",
       "|---|---|---|---|\n",
       "| S | O | 1 | 2 |\n",
       "| X | O | 1 | 1 |\n",
       "| A | I | 2 | 1 |\n",
       "| A | I | 2 | 2 |\n",
       "| K | X | 2 | 2 |\n",
       "| A | X | 2 | 2 |\n",
       "\n"
      ],
      "text/plain": [
       "  LSP SD HC ALS\n",
       "1 S   O  1  2  \n",
       "2 X   O  1  1  \n",
       "3 A   I  2  1  \n",
       "4 A   I  2  2  \n",
       "5 K   X  2  2  \n",
       "6 A   X  2  2  "
      ]
     },
     "metadata": {},
     "output_type": "display_data"
    }
   ],
   "source": [
    "# separates data for spot size classification \n",
    "# sc = Spot size Classification\n",
    "sc_data <- flare69  %>% \n",
    "    select(LSP, SD, HC, ALS)\n",
    "set.seed(71)\n",
    "# train data\n",
    "sc_train <- sample_frac(sc_data, size=0.7) \n",
    "# test data\n",
    "sc_test <- flare69[setdiff(x=1:nrow(sc_data), y=sc_train),]\n",
    "head(sc_train)"
   ]
  },
  {
   "cell_type": "code",
   "execution_count": 48,
   "metadata": {},
   "outputs": [
    {
     "data": {
      "image/png": "[encoded data removed]",
      "text/plain": [
       "plot without title"
      ]
     },
     "metadata": {
      "image/png": {
       "height": 420,
       "width": 420
      }
     },
     "output_type": "display_data"
    }
   ],
   "source": [
    "library(rpart)\n",
    "\n",
    "# fitting\n",
    "sct_fit <- rpart(LSP~., data=sc_train)\n",
    "# plotting\n",
    "library(rpart.plot) ; par(mfrow = c(1,2))\n",
    "rpart.plot(sct_fit) ; plot(sct_fit) ; text(sct_fit)"
   ]
  },
  {
   "cell_type": "markdown",
   "metadata": {},
   "source": [
    "<pre>\n",
    " split 갯수가 3인 의사결정 나무가 나왔다. 최상위부터 ALS가 2 이상이 아니면 LSP가 X로 분류되고, 2이상이면 SD가 C,I 아니면 S로 C, I면 SD가 I면 A, 이외는 K로 분류되는 것을 볼 수 있다. 다음으로 테스트 데이터를 이용해서 예측률, 교차검증, 모델 정보를 알아보자\n",
    "</pre>"
   ]
  },
  {
   "cell_type": "code",
   "execution_count": 49,
   "metadata": {},
   "outputs": [
    {
     "name": "stdout",
     "output_type": "stream",
     "text": [
      "[1] \"Validation model prediction\"\n"
     ]
    },
    {
     "data": {
      "text/html": [
       "53.2507739938081"
      ],
      "text/latex": [
       "53.2507739938081"
      ],
      "text/markdown": [
       "53.2507739938081"
      ],
      "text/plain": [
       "[1] 53.25077"
      ]
     },
     "metadata": {},
     "output_type": "display_data"
    },
    {
     "name": "stdout",
     "output_type": "stream",
     "text": [
      "[1] \"cptable\"\n",
      "          CP nsplit rel error    xerror       xstd\n",
      "1 0.17948718      0 1.0000000 1.0000000 0.04455870\n",
      "2 0.11538462      1 0.8205128 0.8205128 0.04775724\n",
      "3 0.03205128      2 0.7051282 0.7051282 0.04816666\n",
      "4 0.01000000      3 0.6730769 0.6987179 0.04815344\n",
      "[1] \"Cross-validation\"\n",
      "\n",
      "Classification tree:\n",
      "rpart(formula = LSP ~ ., data = sc_train)\n",
      "\n",
      "Variables actually used in tree construction:\n",
      "[1] ALS SD \n",
      "\n",
      "Root node error: 156/226 = 0.69027\n",
      "\n",
      "n= 226 \n",
      "\n",
      "        CP nsplit rel error  xerror     xstd\n",
      "1 0.179487      0   1.00000 1.00000 0.044559\n",
      "2 0.115385      1   0.82051 0.82051 0.047757\n",
      "3 0.032051      2   0.70513 0.70513 0.048167\n",
      "4 0.010000      3   0.67308 0.69872 0.048153\n",
      "NULL\n",
      "[1] \"Model information\"\n",
      "$minsplit\n",
      "[1] 20\n",
      "\n",
      "$minbucket\n",
      "[1] 7\n",
      "\n",
      "$cp\n",
      "[1] 0.01\n",
      "\n",
      "$maxcompete\n",
      "[1] 4\n",
      "\n",
      "$maxsurrogate\n",
      "[1] 5\n",
      "\n",
      "$usesurrogate\n",
      "[1] 2\n",
      "\n",
      "$surrogatestyle\n",
      "[1] 0\n",
      "\n",
      "$maxdepth\n",
      "[1] 30\n",
      "\n",
      "$xval\n",
      "[1] 10\n",
      "\n"
     ]
    },
    {
     "data": {
      "image/png": "[encoded data removed]",
      "text/plain": [
       "plot without title"
      ]
     },
     "metadata": {
      "image/png": {
       "height": 420,
       "width": 420
      }
     },
     "output_type": "display_data"
    }
   ],
   "source": [
    "# testing\n",
    "sct_pre <- predict(sct_fit, newdata =  sc_test, type='class')\n",
    "sct_pre_testing <- sum(sct_pre==sc_test$LSP)/nrow(sc_test)*100\n",
    "print(\"Validation model prediction\")\n",
    "sct_pre_testing\n",
    "\n",
    "# 복잡성 확인\n",
    "print(\"cptable\")\n",
    "print(sct_fit$cptable)\n",
    "\n",
    "# 교차검증\n",
    "print('Cross-validation')\n",
    "printcp(sct_fit)\n",
    "print(plotcp(sct_fit))\n",
    "\n",
    "# 모델정보\n",
    "print(\"Model information\")\n",
    "print(sct_fit$control)"
   ]
  },
  {
   "cell_type": "markdown",
   "metadata": {},
   "source": [
    "<pre>\n",
    " prediction을 행했을 때 예측률이 53.25%로 비교적 예측률이 떨어지는 수치로 나왔다. 가지치기를 위해 행한 교차검증 결과에서 모델의 ERROR는 0.69로 error가 가장 낮은 split 갯수는 3으로 확인되었다. 하지만, 초기 fitting에서 split 갯수가 3인 모델이 나왔기에 prunning의 의미는 없다.\n",
    "</pre>"
   ]
  },
  {
   "cell_type": "markdown",
   "metadata": {},
   "source": [
    "## 3.2 흑점의 크기 분류를 위한 나이브 베이지안 분류\n",
    "<pre> \n",
    " 앞에서 7:3으로 나눈 train data와 test data를 이용하여 나이브베이지안을 실시한다. \n",
    "</pre>"
   ]
  },
  {
   "cell_type": "code",
   "execution_count": 50,
   "metadata": {},
   "outputs": [
    {
     "data": {
      "text/plain": [
       "          Length Class  Mode     \n",
       "apriori   6      table  numeric  \n",
       "tables    3      -none- list     \n",
       "levels    6      -none- character\n",
       "isnumeric 3      -none- logical  \n",
       "call      4      -none- call     "
      ]
     },
     "metadata": {},
     "output_type": "display_data"
    }
   ],
   "source": [
    "library(e1071)\n",
    "\n",
    "# 나이브베이지안 피팅\n",
    "scb_fit <- naiveBayes(LSP~., data=sc_train)\n",
    "# 피팅 결과\n",
    "summary(scb_fit)"
   ]
  },
  {
   "cell_type": "code",
   "execution_count": 51,
   "metadata": {},
   "outputs": [
    {
     "data": {
      "text/html": [
       "54.4891640866873"
      ],
      "text/latex": [
       "54.4891640866873"
      ],
      "text/markdown": [
       "54.4891640866873"
      ],
      "text/plain": [
       "[1] 54.48916"
      ]
     },
     "metadata": {},
     "output_type": "display_data"
    },
    {
     "data": {
      "text/plain": [
       "       \n",
       "scb_pre  A  H  K  R  S  X\n",
       "      A 14  4  3  7  6  3\n",
       "      H  0  0  0  0  0  0\n",
       "      K 17  2 34  0  6  1\n",
       "      R  0  0  0  1  0  0\n",
       "      S 26  5 10 23 79 13\n",
       "      X  4  0  1  7  9 48"
      ]
     },
     "metadata": {},
     "output_type": "display_data"
    },
    {
     "data": {
      "text/plain": [
       "\n",
       "  A   H   K   R   S   X \n",
       " 61  11  48  38 100  65 "
      ]
     },
     "metadata": {},
     "output_type": "display_data"
    },
    {
     "name": "stdout",
     "output_type": "stream",
     "text": [
      "[1] \"정분류율\"\n"
     ]
    },
    {
     "data": {
      "text/html": [
       "0.544891640866873"
      ],
      "text/latex": [
       "0.544891640866873"
      ],
      "text/markdown": [
       "0.544891640866873"
      ],
      "text/plain": [
       "[1] 0.5448916"
      ]
     },
     "metadata": {},
     "output_type": "display_data"
    }
   ],
   "source": [
    "# prediction\n",
    "scb_pre <- predict(scb_fit, newdata = sc_test)\n",
    "scb_pre_testing <- sum(scb_pre==sc_test$LSP)/nrow(sc_test)*100\n",
    "scb_pre_testing\n",
    "\n",
    "# 정오분류표\n",
    "scb_pre_table <- table(scb_pre, sc_data$LSP)\n",
    "scb_pre_table\n",
    "table(sc_data$LSP)\n",
    "\n",
    "#정분류율\n",
    "print(\"정분류율\")\n",
    "sum(diag(scb_pre_table))/sum(scb_pre_table)"
   ]
  },
  {
   "cell_type": "markdown",
   "metadata": {},
   "source": [
    "<pre>\n",
    " 나이브베이지안 결과 예측률이 54.489%로 의사결정 나무보다 약 1% 높은 예측률이 나왔다. 그리고 정분류율은 약 0.55로 나왔다.\n",
    "</pre>"
   ]
  },
  {
   "cell_type": "markdown",
   "metadata": {},
   "source": [
    "# 4. Conclusion\n",
    "<pre>\n",
    " 흑점의 크기와 관련한 변수 LSP와 이와 상관성이 있는 변수들을 이용하여 의사결정 나무 그리고 나이브 베이지안 분류를 이용하여 모델링을 실시하였다. 두 모델 다 좋은 예측률이 나오지 않았다. \n",
    " 의사결정 나무는 흑점의 크기의 영역이 1 즉, 5 이하이면 LSP가 X로 분류되고, 5초과 되면 흑점의 분포 코드가 C,I 아니면 S로 C, I면 흑점의 분포코드가 I면 A, 이외는 K로 분류되었다. 그리고 나이브 베이지안으로 모델링한 결과 예측률은 54.49% 정분류율은 54.55%로 그렇게 높지 않은 분류예측이 나왔다.  \n",
    "</pre>"
   ]
  },
  {
   "cell_type": "markdown",
   "metadata": {},
   "source": [
    "<pre>\n",
    "출처\n",
    "solar fire datasets\n",
    "<a href = http://archive.ics.uci.edu/ml/datasets/Solar+Flare>UCI Machine Learning Repository [Solar Flare Data set]</a>\n",
    "<a href = https://data.noaa.gov//metaview/page?xml=NOAA/NESDIS/NGDC/STP/Solar/iso/xml/solar-features_solar-flares.xml&view=getDataView&header=none>NOAA Solar features - Solar flares</a>\n",
    "<a href = https://ko.wikipedia.org/wiki/%EC%8D%AC%ED%94%8C%EB%A0%88%EC%96%B4>위키백과 썬플레어</a>\n",
    "<a href = http://archive.ics.uci.edu/ml/datasets/solar+flare>UCI Solar Flare data Set </a>\n",
    "\n",
    "위의 코드는 github에 게시하였습니다.\n",
    "<a href = https://github.com/Ant9615/DataAnalysis_with_R/tree/master/Term%20Project>Ant9615/DataAnalysis_with_R/Term project\n",
    "</a>\n",
    "</pre>"
   ]
  }
 ],
 "metadata": {
  "kernelspec": {
   "display_name": "R",
   "language": "R",
   "name": "ir"
  }
 },
 "nbformat": 4,
 "nbformat_minor": 4
}
