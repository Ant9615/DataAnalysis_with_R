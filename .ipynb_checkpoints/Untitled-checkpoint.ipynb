{
 "cells": [
  {
   "cell_type": "markdown",
   "metadata": {},
   "source": [
    "<center>\n",
    "    <header> 2020.11 데이터분석과 R 중간고사</header>\n",
    "     <pre>\n",
    "     산업정보시스템공학과\n",
    "    201510336 구경민\n",
    "    </pre>\n",
    "</center>"
   ]
  },
  {
   "cell_type": "markdown",
   "metadata": {},
   "source": [
    "## 목차\n",
    "<pre>\n",
    "    1. 데이터 파악\n",
    "    2. EDA & pre-processing\n",
    "    3. 소득불평등, 평균교육, 비백인수에 대한 남부주 분류분석\n",
    "    4. \n",
    "\n",
    "</pre>"
   ]
  },
  {
   "cell_type": "markdown",
   "metadata": {},
   "source": [
    "## 1. 데이터 파악"
   ]
  },
  {
   "cell_type": "code",
   "execution_count": 2,
   "metadata": {},
   "outputs": [
    {
     "name": "stderr",
     "output_type": "stream",
     "text": [
      "Warning message:\n",
      "\"package 'MASS' was built under R version 3.6.3\"\n",
      "\n",
      "Attaching package: 'dplyr'\n",
      "\n",
      "\n",
      "The following object is masked from 'package:MASS':\n",
      "\n",
      "    select\n",
      "\n",
      "\n",
      "The following objects are masked from 'package:stats':\n",
      "\n",
      "    filter, lag\n",
      "\n",
      "\n",
      "The following objects are masked from 'package:base':\n",
      "\n",
      "    intersect, setdiff, setequal, union\n",
      "\n",
      "\n",
      "Warning message:\n",
      "\"package 'caret' was built under R version 3.6.3\"\n",
      "Loading required package: lattice\n",
      "\n",
      "Loading required package: ggplot2\n",
      "\n",
      "Warning message:\n",
      "\"package 'ggplot2' was built under R version 3.6.3\"\n"
     ]
    }
   ],
   "source": [
    "# 라이브러리 로드\n",
    "library(MASS)\n",
    "library(dplyr)\n",
    "library(caret)\n",
    "library(ggplot2)"
   ]
  },
  {
   "cell_type": "code",
   "execution_count": 4,
   "metadata": {},
   "outputs": [
    {
     "name": "stdout",
     "output_type": "stream",
     "text": [
      "'data.frame':\t47 obs. of  16 variables:\n",
      " $ M   : int  151 143 142 136 141 121 127 131 157 140 ...\n",
      " $ So  : int  1 0 1 0 0 0 1 1 1 0 ...\n",
      " $ Ed  : int  91 113 89 121 121 110 111 109 90 118 ...\n",
      " $ Po1 : int  58 103 45 149 109 118 82 115 65 71 ...\n",
      " $ Po2 : int  56 95 44 141 101 115 79 109 62 68 ...\n",
      " $ LF  : int  510 583 533 577 591 547 519 542 553 632 ...\n",
      " $ M.F : int  950 1012 969 994 985 964 982 969 955 1029 ...\n",
      " $ Pop : int  33 13 18 157 18 25 4 50 39 7 ...\n",
      " $ NW  : int  301 102 219 80 30 44 139 179 286 15 ...\n",
      " $ U1  : int  108 96 94 102 91 84 97 79 81 100 ...\n",
      " $ U2  : int  41 36 33 39 20 29 38 35 28 24 ...\n",
      " $ GDP : int  394 557 318 673 578 689 620 472 421 526 ...\n",
      " $ Ineq: int  261 194 250 167 174 126 168 206 239 174 ...\n",
      " $ Prob: num  0.0846 0.0296 0.0834 0.0158 0.0414 ...\n",
      " $ Time: num  26.2 25.3 24.3 29.9 21.3 ...\n",
      " $ y   : int  791 1635 578 1969 1234 682 963 1555 856 705 ...\n"
     ]
    }
   ],
   "source": [
    "# 데이터 로드\n",
    "crime <- as.data.frame(MASS::UScrime)\n",
    "\n",
    "# View(crime)\n",
    "str(crime)\n"
   ]
  },
  {
   "cell_type": "markdown",
   "metadata": {},
   "source": [
    "<pre>\n",
    "uscrime 데이터 \n",
    ": 처벌정책이 범죄율에 미치는 영향 연구(미국 47개 주의 데이터)\n",
    "M = 14-24살 남성인구 비율\n",
    "So = 남부 주에 대한 지시변수\n",
    "Ed = 평균 교육기간\n",
    "Po1 = 1960년 경찰 유지비용\n",
    "Po2 = 1959년 경찰 유지비용\n",
    "LF = 고용률\n",
    "M.F = 여성 1000명당 남성 비율\n",
    "Pop = 주 인구수(단위 1000명)\n",
    "NW = 인구 1000명당 비백인수\n",
    "U1 = 14-24세 도시 남성 실업률\n",
    "U2 = 35-39세 도시 남성 실업률 \n",
    "GDP = 1인당 주내 총생산량\n",
    "Ineq = 소득 불평등 지수\n",
    "Prob = 구속 확률\n",
    "Time = 재소자의 재소기간의 평균\n",
    "y = 특정 유형에 대한 범죄율\n",
    "</pre>"
   ]
  },
  {
   "cell_type": "markdown",
   "metadata": {},
   "source": [
    "### 2. EDA & pre-processing\n",
    "> EDA에서 상관분석을 행한다.상관분석을 하는 이유는 변수 간의 상관계수가 클수록(절댓값) 등분산성을 만족하기에 상관분석을 통해 등분산성을 만족하는 변수를 골라 분석에 사용한다."
   ]
  },
  {
   "cell_type": "code",
   "execution_count": 5,
   "metadata": {},
   "outputs": [
    {
     "data": {
      "text/html": [
       "<table>\n",
       "<caption>A matrix: 16 × 16 of type dbl</caption>\n",
       "<thead>\n",
       "\t<tr><th></th><th scope=col>M</th><th scope=col>So</th><th scope=col>Ed</th><th scope=col>Po1</th><th scope=col>Po2</th><th scope=col>LF</th><th scope=col>M.F</th><th scope=col>Pop</th><th scope=col>NW</th><th scope=col>U1</th><th scope=col>U2</th><th scope=col>GDP</th><th scope=col>Ineq</th><th scope=col>Prob</th><th scope=col>Time</th><th scope=col>y</th></tr>\n",
       "</thead>\n",
       "<tbody>\n",
       "\t<tr><th scope=row>M</th><td> 1.00000000</td><td> 0.58435534</td><td>-0.53023964</td><td>-0.50573690</td><td>-0.51317336</td><td>-0.1609488</td><td>-0.02867993</td><td>-0.28063762</td><td> 0.59319826</td><td>-0.224380599</td><td>-0.24484339</td><td>-0.6700550558</td><td> 0.63921138</td><td> 0.361116408</td><td> 0.1145107190</td><td>-0.08947240</td></tr>\n",
       "\t<tr><th scope=row>So</th><td> 0.58435534</td><td> 1.00000000</td><td>-0.70274132</td><td>-0.37263633</td><td>-0.37616753</td><td>-0.5054695</td><td>-0.31473291</td><td>-0.04991832</td><td> 0.76710262</td><td>-0.172419305</td><td> 0.07169289</td><td>-0.6369454328</td><td> 0.73718106</td><td> 0.530861993</td><td> 0.0668128312</td><td>-0.09063696</td></tr>\n",
       "\t<tr><th scope=row>Ed</th><td>-0.53023964</td><td>-0.70274132</td><td> 1.00000000</td><td> 0.48295213</td><td> 0.49940958</td><td> 0.5611780</td><td> 0.43691492</td><td>-0.01722740</td><td>-0.66488190</td><td> 0.018103454</td><td>-0.21568155</td><td> 0.7359970363</td><td>-0.76865789</td><td>-0.389922862</td><td>-0.2539735471</td><td> 0.32283487</td></tr>\n",
       "\t<tr><th scope=row>Po1</th><td>-0.50573690</td><td>-0.37263633</td><td> 0.48295213</td><td> 1.00000000</td><td> 0.99358648</td><td> 0.1214932</td><td> 0.03376027</td><td> 0.52628358</td><td>-0.21370878</td><td>-0.043697608</td><td> 0.18509304</td><td> 0.7872252807</td><td>-0.63050025</td><td>-0.473247036</td><td> 0.1033577449</td><td> 0.68760446</td></tr>\n",
       "\t<tr><th scope=row>Po2</th><td>-0.51317336</td><td>-0.37616753</td><td> 0.49940958</td><td> 0.99358648</td><td> 1.00000000</td><td> 0.1063496</td><td> 0.02284250</td><td> 0.51378940</td><td>-0.21876821</td><td>-0.051711989</td><td> 0.16922422</td><td> 0.7942620503</td><td>-0.64815183</td><td>-0.473027293</td><td> 0.0756266536</td><td> 0.66671414</td></tr>\n",
       "\t<tr><th scope=row>LF</th><td>-0.16094882</td><td>-0.50546948</td><td> 0.56117795</td><td> 0.12149320</td><td> 0.10634960</td><td> 1.0000000</td><td> 0.51355879</td><td>-0.12367222</td><td>-0.34121444</td><td>-0.229399684</td><td>-0.42076249</td><td> 0.2946323090</td><td>-0.26988646</td><td>-0.250086098</td><td>-0.1236404364</td><td> 0.18886635</td></tr>\n",
       "\t<tr><th scope=row>M.F</th><td>-0.02867993</td><td>-0.31473291</td><td> 0.43691492</td><td> 0.03376027</td><td> 0.02284250</td><td> 0.5135588</td><td> 1.00000000</td><td>-0.41062750</td><td>-0.32730454</td><td> 0.351891900</td><td>-0.01869169</td><td> 0.1796086363</td><td>-0.16708869</td><td>-0.050858258</td><td>-0.4276973791</td><td> 0.21391426</td></tr>\n",
       "\t<tr><th scope=row>Pop</th><td>-0.28063762</td><td>-0.04991832</td><td>-0.01722740</td><td> 0.52628358</td><td> 0.51378940</td><td>-0.1236722</td><td>-0.41062750</td><td> 1.00000000</td><td> 0.09515301</td><td>-0.038119948</td><td> 0.27042159</td><td> 0.3082627091</td><td>-0.12629357</td><td>-0.347289063</td><td> 0.4642104596</td><td> 0.33747406</td></tr>\n",
       "\t<tr><th scope=row>NW</th><td> 0.59319826</td><td> 0.76710262</td><td>-0.66488190</td><td>-0.21370878</td><td>-0.21876821</td><td>-0.3412144</td><td>-0.32730454</td><td> 0.09515301</td><td> 1.00000000</td><td>-0.156450020</td><td> 0.08090829</td><td>-0.5901070652</td><td> 0.67731286</td><td> 0.428059153</td><td> 0.2303984071</td><td> 0.03259884</td></tr>\n",
       "\t<tr><th scope=row>U1</th><td>-0.22438060</td><td>-0.17241931</td><td> 0.01810345</td><td>-0.04369761</td><td>-0.05171199</td><td>-0.2293997</td><td> 0.35189190</td><td>-0.03811995</td><td>-0.15645002</td><td> 1.000000000</td><td> 0.74592482</td><td> 0.0448572017</td><td>-0.06383218</td><td>-0.007469032</td><td>-0.1698528383</td><td>-0.05047792</td></tr>\n",
       "\t<tr><th scope=row>U2</th><td>-0.24484339</td><td> 0.07169289</td><td>-0.21568155</td><td> 0.18509304</td><td> 0.16922422</td><td>-0.4207625</td><td>-0.01869169</td><td> 0.27042159</td><td> 0.08090829</td><td> 0.745924815</td><td> 1.00000000</td><td> 0.0920716601</td><td> 0.01567818</td><td>-0.061592474</td><td> 0.1013583270</td><td> 0.17732065</td></tr>\n",
       "\t<tr><th scope=row>GDP</th><td>-0.67005506</td><td>-0.63694543</td><td> 0.73599704</td><td> 0.78722528</td><td> 0.79426205</td><td> 0.2946323</td><td> 0.17960864</td><td> 0.30826271</td><td>-0.59010707</td><td> 0.044857202</td><td> 0.09207166</td><td> 1.0000000000</td><td>-0.88399728</td><td>-0.555334708</td><td> 0.0006485587</td><td> 0.44131995</td></tr>\n",
       "\t<tr><th scope=row>Ineq</th><td> 0.63921138</td><td> 0.73718106</td><td>-0.76865789</td><td>-0.63050025</td><td>-0.64815183</td><td>-0.2698865</td><td>-0.16708869</td><td>-0.12629357</td><td> 0.67731286</td><td>-0.063832178</td><td> 0.01567818</td><td>-0.8839972758</td><td> 1.00000000</td><td> 0.465321920</td><td> 0.1018228182</td><td>-0.17902373</td></tr>\n",
       "\t<tr><th scope=row>Prob</th><td> 0.36111641</td><td> 0.53086199</td><td>-0.38992286</td><td>-0.47324704</td><td>-0.47302729</td><td>-0.2500861</td><td>-0.05085826</td><td>-0.34728906</td><td> 0.42805915</td><td>-0.007469032</td><td>-0.06159247</td><td>-0.5553347075</td><td> 0.46532192</td><td> 1.000000000</td><td>-0.4362462614</td><td>-0.42742219</td></tr>\n",
       "\t<tr><th scope=row>Time</th><td> 0.11451072</td><td> 0.06681283</td><td>-0.25397355</td><td> 0.10335774</td><td> 0.07562665</td><td>-0.1236404</td><td>-0.42769738</td><td> 0.46421046</td><td> 0.23039841</td><td>-0.169852838</td><td> 0.10135833</td><td> 0.0006485587</td><td> 0.10182282</td><td>-0.436246261</td><td> 1.0000000000</td><td> 0.14986606</td></tr>\n",
       "\t<tr><th scope=row>y</th><td>-0.08947240</td><td>-0.09063696</td><td> 0.32283487</td><td> 0.68760446</td><td> 0.66671414</td><td> 0.1888663</td><td> 0.21391426</td><td> 0.33747406</td><td> 0.03259884</td><td>-0.050477918</td><td> 0.17732065</td><td> 0.4413199490</td><td>-0.17902373</td><td>-0.427422188</td><td> 0.1498660617</td><td> 1.00000000</td></tr>\n",
       "</tbody>\n",
       "</table>\n"
      ],
      "text/latex": [
       "A matrix: 16 × 16 of type dbl\n",
       "\\begin{tabular}{r|llllllllllllllll}\n",
       "  & M & So & Ed & Po1 & Po2 & LF & M.F & Pop & NW & U1 & U2 & GDP & Ineq & Prob & Time & y\\\\\n",
       "\\hline\n",
       "\tM &  1.00000000 &  0.58435534 & -0.53023964 & -0.50573690 & -0.51317336 & -0.1609488 & -0.02867993 & -0.28063762 &  0.59319826 & -0.224380599 & -0.24484339 & -0.6700550558 &  0.63921138 &  0.361116408 &  0.1145107190 & -0.08947240\\\\\n",
       "\tSo &  0.58435534 &  1.00000000 & -0.70274132 & -0.37263633 & -0.37616753 & -0.5054695 & -0.31473291 & -0.04991832 &  0.76710262 & -0.172419305 &  0.07169289 & -0.6369454328 &  0.73718106 &  0.530861993 &  0.0668128312 & -0.09063696\\\\\n",
       "\tEd & -0.53023964 & -0.70274132 &  1.00000000 &  0.48295213 &  0.49940958 &  0.5611780 &  0.43691492 & -0.01722740 & -0.66488190 &  0.018103454 & -0.21568155 &  0.7359970363 & -0.76865789 & -0.389922862 & -0.2539735471 &  0.32283487\\\\\n",
       "\tPo1 & -0.50573690 & -0.37263633 &  0.48295213 &  1.00000000 &  0.99358648 &  0.1214932 &  0.03376027 &  0.52628358 & -0.21370878 & -0.043697608 &  0.18509304 &  0.7872252807 & -0.63050025 & -0.473247036 &  0.1033577449 &  0.68760446\\\\\n",
       "\tPo2 & -0.51317336 & -0.37616753 &  0.49940958 &  0.99358648 &  1.00000000 &  0.1063496 &  0.02284250 &  0.51378940 & -0.21876821 & -0.051711989 &  0.16922422 &  0.7942620503 & -0.64815183 & -0.473027293 &  0.0756266536 &  0.66671414\\\\\n",
       "\tLF & -0.16094882 & -0.50546948 &  0.56117795 &  0.12149320 &  0.10634960 &  1.0000000 &  0.51355879 & -0.12367222 & -0.34121444 & -0.229399684 & -0.42076249 &  0.2946323090 & -0.26988646 & -0.250086098 & -0.1236404364 &  0.18886635\\\\\n",
       "\tM.F & -0.02867993 & -0.31473291 &  0.43691492 &  0.03376027 &  0.02284250 &  0.5135588 &  1.00000000 & -0.41062750 & -0.32730454 &  0.351891900 & -0.01869169 &  0.1796086363 & -0.16708869 & -0.050858258 & -0.4276973791 &  0.21391426\\\\\n",
       "\tPop & -0.28063762 & -0.04991832 & -0.01722740 &  0.52628358 &  0.51378940 & -0.1236722 & -0.41062750 &  1.00000000 &  0.09515301 & -0.038119948 &  0.27042159 &  0.3082627091 & -0.12629357 & -0.347289063 &  0.4642104596 &  0.33747406\\\\\n",
       "\tNW &  0.59319826 &  0.76710262 & -0.66488190 & -0.21370878 & -0.21876821 & -0.3412144 & -0.32730454 &  0.09515301 &  1.00000000 & -0.156450020 &  0.08090829 & -0.5901070652 &  0.67731286 &  0.428059153 &  0.2303984071 &  0.03259884\\\\\n",
       "\tU1 & -0.22438060 & -0.17241931 &  0.01810345 & -0.04369761 & -0.05171199 & -0.2293997 &  0.35189190 & -0.03811995 & -0.15645002 &  1.000000000 &  0.74592482 &  0.0448572017 & -0.06383218 & -0.007469032 & -0.1698528383 & -0.05047792\\\\\n",
       "\tU2 & -0.24484339 &  0.07169289 & -0.21568155 &  0.18509304 &  0.16922422 & -0.4207625 & -0.01869169 &  0.27042159 &  0.08090829 &  0.745924815 &  1.00000000 &  0.0920716601 &  0.01567818 & -0.061592474 &  0.1013583270 &  0.17732065\\\\\n",
       "\tGDP & -0.67005506 & -0.63694543 &  0.73599704 &  0.78722528 &  0.79426205 &  0.2946323 &  0.17960864 &  0.30826271 & -0.59010707 &  0.044857202 &  0.09207166 &  1.0000000000 & -0.88399728 & -0.555334708 &  0.0006485587 &  0.44131995\\\\\n",
       "\tIneq &  0.63921138 &  0.73718106 & -0.76865789 & -0.63050025 & -0.64815183 & -0.2698865 & -0.16708869 & -0.12629357 &  0.67731286 & -0.063832178 &  0.01567818 & -0.8839972758 &  1.00000000 &  0.465321920 &  0.1018228182 & -0.17902373\\\\\n",
       "\tProb &  0.36111641 &  0.53086199 & -0.38992286 & -0.47324704 & -0.47302729 & -0.2500861 & -0.05085826 & -0.34728906 &  0.42805915 & -0.007469032 & -0.06159247 & -0.5553347075 &  0.46532192 &  1.000000000 & -0.4362462614 & -0.42742219\\\\\n",
       "\tTime &  0.11451072 &  0.06681283 & -0.25397355 &  0.10335774 &  0.07562665 & -0.1236404 & -0.42769738 &  0.46421046 &  0.23039841 & -0.169852838 &  0.10135833 &  0.0006485587 &  0.10182282 & -0.436246261 &  1.0000000000 &  0.14986606\\\\\n",
       "\ty & -0.08947240 & -0.09063696 &  0.32283487 &  0.68760446 &  0.66671414 &  0.1888663 &  0.21391426 &  0.33747406 &  0.03259884 & -0.050477918 &  0.17732065 &  0.4413199490 & -0.17902373 & -0.427422188 &  0.1498660617 &  1.00000000\\\\\n",
       "\\end{tabular}\n"
      ],
      "text/markdown": [
       "\n",
       "A matrix: 16 × 16 of type dbl\n",
       "\n",
       "| <!--/--> | M | So | Ed | Po1 | Po2 | LF | M.F | Pop | NW | U1 | U2 | GDP | Ineq | Prob | Time | y |\n",
       "|---|---|---|---|---|---|---|---|---|---|---|---|---|---|---|---|---|\n",
       "| M |  1.00000000 |  0.58435534 | -0.53023964 | -0.50573690 | -0.51317336 | -0.1609488 | -0.02867993 | -0.28063762 |  0.59319826 | -0.224380599 | -0.24484339 | -0.6700550558 |  0.63921138 |  0.361116408 |  0.1145107190 | -0.08947240 |\n",
       "| So |  0.58435534 |  1.00000000 | -0.70274132 | -0.37263633 | -0.37616753 | -0.5054695 | -0.31473291 | -0.04991832 |  0.76710262 | -0.172419305 |  0.07169289 | -0.6369454328 |  0.73718106 |  0.530861993 |  0.0668128312 | -0.09063696 |\n",
       "| Ed | -0.53023964 | -0.70274132 |  1.00000000 |  0.48295213 |  0.49940958 |  0.5611780 |  0.43691492 | -0.01722740 | -0.66488190 |  0.018103454 | -0.21568155 |  0.7359970363 | -0.76865789 | -0.389922862 | -0.2539735471 |  0.32283487 |\n",
       "| Po1 | -0.50573690 | -0.37263633 |  0.48295213 |  1.00000000 |  0.99358648 |  0.1214932 |  0.03376027 |  0.52628358 | -0.21370878 | -0.043697608 |  0.18509304 |  0.7872252807 | -0.63050025 | -0.473247036 |  0.1033577449 |  0.68760446 |\n",
       "| Po2 | -0.51317336 | -0.37616753 |  0.49940958 |  0.99358648 |  1.00000000 |  0.1063496 |  0.02284250 |  0.51378940 | -0.21876821 | -0.051711989 |  0.16922422 |  0.7942620503 | -0.64815183 | -0.473027293 |  0.0756266536 |  0.66671414 |\n",
       "| LF | -0.16094882 | -0.50546948 |  0.56117795 |  0.12149320 |  0.10634960 |  1.0000000 |  0.51355879 | -0.12367222 | -0.34121444 | -0.229399684 | -0.42076249 |  0.2946323090 | -0.26988646 | -0.250086098 | -0.1236404364 |  0.18886635 |\n",
       "| M.F | -0.02867993 | -0.31473291 |  0.43691492 |  0.03376027 |  0.02284250 |  0.5135588 |  1.00000000 | -0.41062750 | -0.32730454 |  0.351891900 | -0.01869169 |  0.1796086363 | -0.16708869 | -0.050858258 | -0.4276973791 |  0.21391426 |\n",
       "| Pop | -0.28063762 | -0.04991832 | -0.01722740 |  0.52628358 |  0.51378940 | -0.1236722 | -0.41062750 |  1.00000000 |  0.09515301 | -0.038119948 |  0.27042159 |  0.3082627091 | -0.12629357 | -0.347289063 |  0.4642104596 |  0.33747406 |\n",
       "| NW |  0.59319826 |  0.76710262 | -0.66488190 | -0.21370878 | -0.21876821 | -0.3412144 | -0.32730454 |  0.09515301 |  1.00000000 | -0.156450020 |  0.08090829 | -0.5901070652 |  0.67731286 |  0.428059153 |  0.2303984071 |  0.03259884 |\n",
       "| U1 | -0.22438060 | -0.17241931 |  0.01810345 | -0.04369761 | -0.05171199 | -0.2293997 |  0.35189190 | -0.03811995 | -0.15645002 |  1.000000000 |  0.74592482 |  0.0448572017 | -0.06383218 | -0.007469032 | -0.1698528383 | -0.05047792 |\n",
       "| U2 | -0.24484339 |  0.07169289 | -0.21568155 |  0.18509304 |  0.16922422 | -0.4207625 | -0.01869169 |  0.27042159 |  0.08090829 |  0.745924815 |  1.00000000 |  0.0920716601 |  0.01567818 | -0.061592474 |  0.1013583270 |  0.17732065 |\n",
       "| GDP | -0.67005506 | -0.63694543 |  0.73599704 |  0.78722528 |  0.79426205 |  0.2946323 |  0.17960864 |  0.30826271 | -0.59010707 |  0.044857202 |  0.09207166 |  1.0000000000 | -0.88399728 | -0.555334708 |  0.0006485587 |  0.44131995 |\n",
       "| Ineq |  0.63921138 |  0.73718106 | -0.76865789 | -0.63050025 | -0.64815183 | -0.2698865 | -0.16708869 | -0.12629357 |  0.67731286 | -0.063832178 |  0.01567818 | -0.8839972758 |  1.00000000 |  0.465321920 |  0.1018228182 | -0.17902373 |\n",
       "| Prob |  0.36111641 |  0.53086199 | -0.38992286 | -0.47324704 | -0.47302729 | -0.2500861 | -0.05085826 | -0.34728906 |  0.42805915 | -0.007469032 | -0.06159247 | -0.5553347075 |  0.46532192 |  1.000000000 | -0.4362462614 | -0.42742219 |\n",
       "| Time |  0.11451072 |  0.06681283 | -0.25397355 |  0.10335774 |  0.07562665 | -0.1236404 | -0.42769738 |  0.46421046 |  0.23039841 | -0.169852838 |  0.10135833 |  0.0006485587 |  0.10182282 | -0.436246261 |  1.0000000000 |  0.14986606 |\n",
       "| y | -0.08947240 | -0.09063696 |  0.32283487 |  0.68760446 |  0.66671414 |  0.1888663 |  0.21391426 |  0.33747406 |  0.03259884 | -0.050477918 |  0.17732065 |  0.4413199490 | -0.17902373 | -0.427422188 |  0.1498660617 |  1.00000000 |\n",
       "\n"
      ],
      "text/plain": [
       "     M           So          Ed          Po1         Po2         LF        \n",
       "M     1.00000000  0.58435534 -0.53023964 -0.50573690 -0.51317336 -0.1609488\n",
       "So    0.58435534  1.00000000 -0.70274132 -0.37263633 -0.37616753 -0.5054695\n",
       "Ed   -0.53023964 -0.70274132  1.00000000  0.48295213  0.49940958  0.5611780\n",
       "Po1  -0.50573690 -0.37263633  0.48295213  1.00000000  0.99358648  0.1214932\n",
       "Po2  -0.51317336 -0.37616753  0.49940958  0.99358648  1.00000000  0.1063496\n",
       "LF   -0.16094882 -0.50546948  0.56117795  0.12149320  0.10634960  1.0000000\n",
       "M.F  -0.02867993 -0.31473291  0.43691492  0.03376027  0.02284250  0.5135588\n",
       "Pop  -0.28063762 -0.04991832 -0.01722740  0.52628358  0.51378940 -0.1236722\n",
       "NW    0.59319826  0.76710262 -0.66488190 -0.21370878 -0.21876821 -0.3412144\n",
       "U1   -0.22438060 -0.17241931  0.01810345 -0.04369761 -0.05171199 -0.2293997\n",
       "U2   -0.24484339  0.07169289 -0.21568155  0.18509304  0.16922422 -0.4207625\n",
       "GDP  -0.67005506 -0.63694543  0.73599704  0.78722528  0.79426205  0.2946323\n",
       "Ineq  0.63921138  0.73718106 -0.76865789 -0.63050025 -0.64815183 -0.2698865\n",
       "Prob  0.36111641  0.53086199 -0.38992286 -0.47324704 -0.47302729 -0.2500861\n",
       "Time  0.11451072  0.06681283 -0.25397355  0.10335774  0.07562665 -0.1236404\n",
       "y    -0.08947240 -0.09063696  0.32283487  0.68760446  0.66671414  0.1888663\n",
       "     M.F         Pop         NW          U1           U2          GDP          \n",
       "M    -0.02867993 -0.28063762  0.59319826 -0.224380599 -0.24484339 -0.6700550558\n",
       "So   -0.31473291 -0.04991832  0.76710262 -0.172419305  0.07169289 -0.6369454328\n",
       "Ed    0.43691492 -0.01722740 -0.66488190  0.018103454 -0.21568155  0.7359970363\n",
       "Po1   0.03376027  0.52628358 -0.21370878 -0.043697608  0.18509304  0.7872252807\n",
       "Po2   0.02284250  0.51378940 -0.21876821 -0.051711989  0.16922422  0.7942620503\n",
       "LF    0.51355879 -0.12367222 -0.34121444 -0.229399684 -0.42076249  0.2946323090\n",
       "M.F   1.00000000 -0.41062750 -0.32730454  0.351891900 -0.01869169  0.1796086363\n",
       "Pop  -0.41062750  1.00000000  0.09515301 -0.038119948  0.27042159  0.3082627091\n",
       "NW   -0.32730454  0.09515301  1.00000000 -0.156450020  0.08090829 -0.5901070652\n",
       "U1    0.35189190 -0.03811995 -0.15645002  1.000000000  0.74592482  0.0448572017\n",
       "U2   -0.01869169  0.27042159  0.08090829  0.745924815  1.00000000  0.0920716601\n",
       "GDP   0.17960864  0.30826271 -0.59010707  0.044857202  0.09207166  1.0000000000\n",
       "Ineq -0.16708869 -0.12629357  0.67731286 -0.063832178  0.01567818 -0.8839972758\n",
       "Prob -0.05085826 -0.34728906  0.42805915 -0.007469032 -0.06159247 -0.5553347075\n",
       "Time -0.42769738  0.46421046  0.23039841 -0.169852838  0.10135833  0.0006485587\n",
       "y     0.21391426  0.33747406  0.03259884 -0.050477918  0.17732065  0.4413199490\n",
       "     Ineq        Prob         Time          y          \n",
       "M     0.63921138  0.361116408  0.1145107190 -0.08947240\n",
       "So    0.73718106  0.530861993  0.0668128312 -0.09063696\n",
       "Ed   -0.76865789 -0.389922862 -0.2539735471  0.32283487\n",
       "Po1  -0.63050025 -0.473247036  0.1033577449  0.68760446\n",
       "Po2  -0.64815183 -0.473027293  0.0756266536  0.66671414\n",
       "LF   -0.26988646 -0.250086098 -0.1236404364  0.18886635\n",
       "M.F  -0.16708869 -0.050858258 -0.4276973791  0.21391426\n",
       "Pop  -0.12629357 -0.347289063  0.4642104596  0.33747406\n",
       "NW    0.67731286  0.428059153  0.2303984071  0.03259884\n",
       "U1   -0.06383218 -0.007469032 -0.1698528383 -0.05047792\n",
       "U2    0.01567818 -0.061592474  0.1013583270  0.17732065\n",
       "GDP  -0.88399728 -0.555334708  0.0006485587  0.44131995\n",
       "Ineq  1.00000000  0.465321920  0.1018228182 -0.17902373\n",
       "Prob  0.46532192  1.000000000 -0.4362462614 -0.42742219\n",
       "Time  0.10182282 -0.436246261  1.0000000000  0.14986606\n",
       "y    -0.17902373 -0.427422188  0.1498660617  1.00000000"
      ]
     },
     "metadata": {},
     "output_type": "display_data"
    },
    {
     "data": {
      "image/png": "[encoded data removed]",
      "text/plain": [
       "Plot with title \"\""
      ]
     },
     "metadata": {
      "image/png": {
       "height": 420,
       "width": 420
      }
     },
     "output_type": "display_data"
    }
   ],
   "source": [
    "# 상관관계 분석\n",
    "# install.packages(\"corrplot\")\n",
    "library(corrplot)\n",
    "crime_cor <- cor(crime)\n",
    "crime_cor\n",
    "corrplot(crime_cor)"
   ]
  },
  {
   "cell_type": "markdown",
   "metadata": {},
   "source": [
    "### 3.  소득불평등, 평균교육, 비백인수에 대한 남부주 분류분석\n",
    "<pre>\n",
    "상관분석을 통해 so와 강한 상관관계를 가지는 변수를 알아봤다.\n",
    "so와 강한상관관계를 가지는 소득불평등지수(Ineq), 평균교육(ed), 비백인수(NW) 등을 사용하여 로지스틱회귀를 통해 분류분석을 시행했다. \n",
    "로지스틱 회귀를 사용하는 이유는 종속변수 So가 이진변수여서 로지스틱을 사용하였다.\n",
    "</pre>"
   ]
  },
  {
   "cell_type": "code",
   "execution_count": 16,
   "metadata": {},
   "outputs": [
    {
     "data": {
      "text/html": [
       "<table>\n",
       "<caption>A data.frame: 6 × 16</caption>\n",
       "<thead>\n",
       "\t<tr><th></th><th scope=col>M</th><th scope=col>So</th><th scope=col>Ed</th><th scope=col>Po1</th><th scope=col>Po2</th><th scope=col>LF</th><th scope=col>M.F</th><th scope=col>Pop</th><th scope=col>NW</th><th scope=col>U1</th><th scope=col>U2</th><th scope=col>GDP</th><th scope=col>Ineq</th><th scope=col>Prob</th><th scope=col>Time</th><th scope=col>y</th></tr>\n",
       "\t<tr><th></th><th scope=col>&lt;int&gt;</th><th scope=col>&lt;fct&gt;</th><th scope=col>&lt;int&gt;</th><th scope=col>&lt;int&gt;</th><th scope=col>&lt;int&gt;</th><th scope=col>&lt;int&gt;</th><th scope=col>&lt;int&gt;</th><th scope=col>&lt;int&gt;</th><th scope=col>&lt;int&gt;</th><th scope=col>&lt;int&gt;</th><th scope=col>&lt;int&gt;</th><th scope=col>&lt;int&gt;</th><th scope=col>&lt;int&gt;</th><th scope=col>&lt;dbl&gt;</th><th scope=col>&lt;dbl&gt;</th><th scope=col>&lt;int&gt;</th></tr>\n",
       "</thead>\n",
       "<tbody>\n",
       "\t<tr><th scope=row>1</th><td>151</td><td>1</td><td> 91</td><td> 58</td><td> 56</td><td>510</td><td> 950</td><td> 33</td><td>301</td><td>108</td><td>41</td><td>394</td><td>261</td><td>0.084602</td><td>26.2011</td><td> 791</td></tr>\n",
       "\t<tr><th scope=row>2</th><td>143</td><td>0</td><td>113</td><td>103</td><td> 95</td><td>583</td><td>1012</td><td> 13</td><td>102</td><td> 96</td><td>36</td><td>557</td><td>194</td><td>0.029599</td><td>25.2999</td><td>1635</td></tr>\n",
       "\t<tr><th scope=row>3</th><td>142</td><td>1</td><td> 89</td><td> 45</td><td> 44</td><td>533</td><td> 969</td><td> 18</td><td>219</td><td> 94</td><td>33</td><td>318</td><td>250</td><td>0.083401</td><td>24.3006</td><td> 578</td></tr>\n",
       "\t<tr><th scope=row>4</th><td>136</td><td>0</td><td>121</td><td>149</td><td>141</td><td>577</td><td> 994</td><td>157</td><td> 80</td><td>102</td><td>39</td><td>673</td><td>167</td><td>0.015801</td><td>29.9012</td><td>1969</td></tr>\n",
       "\t<tr><th scope=row>5</th><td>141</td><td>0</td><td>121</td><td>109</td><td>101</td><td>591</td><td> 985</td><td> 18</td><td> 30</td><td> 91</td><td>20</td><td>578</td><td>174</td><td>0.041399</td><td>21.2998</td><td>1234</td></tr>\n",
       "\t<tr><th scope=row>6</th><td>121</td><td>0</td><td>110</td><td>118</td><td>115</td><td>547</td><td> 964</td><td> 25</td><td> 44</td><td> 84</td><td>29</td><td>689</td><td>126</td><td>0.034201</td><td>20.9995</td><td> 682</td></tr>\n",
       "</tbody>\n",
       "</table>\n"
      ],
      "text/latex": [
       "A data.frame: 6 × 16\n",
       "\\begin{tabular}{r|llllllllllllllll}\n",
       "  & M & So & Ed & Po1 & Po2 & LF & M.F & Pop & NW & U1 & U2 & GDP & Ineq & Prob & Time & y\\\\\n",
       "  & <int> & <fct> & <int> & <int> & <int> & <int> & <int> & <int> & <int> & <int> & <int> & <int> & <int> & <dbl> & <dbl> & <int>\\\\\n",
       "\\hline\n",
       "\t1 & 151 & 1 &  91 &  58 &  56 & 510 &  950 &  33 & 301 & 108 & 41 & 394 & 261 & 0.084602 & 26.2011 &  791\\\\\n",
       "\t2 & 143 & 0 & 113 & 103 &  95 & 583 & 1012 &  13 & 102 &  96 & 36 & 557 & 194 & 0.029599 & 25.2999 & 1635\\\\\n",
       "\t3 & 142 & 1 &  89 &  45 &  44 & 533 &  969 &  18 & 219 &  94 & 33 & 318 & 250 & 0.083401 & 24.3006 &  578\\\\\n",
       "\t4 & 136 & 0 & 121 & 149 & 141 & 577 &  994 & 157 &  80 & 102 & 39 & 673 & 167 & 0.015801 & 29.9012 & 1969\\\\\n",
       "\t5 & 141 & 0 & 121 & 109 & 101 & 591 &  985 &  18 &  30 &  91 & 20 & 578 & 174 & 0.041399 & 21.2998 & 1234\\\\\n",
       "\t6 & 121 & 0 & 110 & 118 & 115 & 547 &  964 &  25 &  44 &  84 & 29 & 689 & 126 & 0.034201 & 20.9995 &  682\\\\\n",
       "\\end{tabular}\n"
      ],
      "text/markdown": [
       "\n",
       "A data.frame: 6 × 16\n",
       "\n",
       "| <!--/--> | M &lt;int&gt; | So &lt;fct&gt; | Ed &lt;int&gt; | Po1 &lt;int&gt; | Po2 &lt;int&gt; | LF &lt;int&gt; | M.F &lt;int&gt; | Pop &lt;int&gt; | NW &lt;int&gt; | U1 &lt;int&gt; | U2 &lt;int&gt; | GDP &lt;int&gt; | Ineq &lt;int&gt; | Prob &lt;dbl&gt; | Time &lt;dbl&gt; | y &lt;int&gt; |\n",
       "|---|---|---|---|---|---|---|---|---|---|---|---|---|---|---|---|---|\n",
       "| 1 | 151 | 1 |  91 |  58 |  56 | 510 |  950 |  33 | 301 | 108 | 41 | 394 | 261 | 0.084602 | 26.2011 |  791 |\n",
       "| 2 | 143 | 0 | 113 | 103 |  95 | 583 | 1012 |  13 | 102 |  96 | 36 | 557 | 194 | 0.029599 | 25.2999 | 1635 |\n",
       "| 3 | 142 | 1 |  89 |  45 |  44 | 533 |  969 |  18 | 219 |  94 | 33 | 318 | 250 | 0.083401 | 24.3006 |  578 |\n",
       "| 4 | 136 | 0 | 121 | 149 | 141 | 577 |  994 | 157 |  80 | 102 | 39 | 673 | 167 | 0.015801 | 29.9012 | 1969 |\n",
       "| 5 | 141 | 0 | 121 | 109 | 101 | 591 |  985 |  18 |  30 |  91 | 20 | 578 | 174 | 0.041399 | 21.2998 | 1234 |\n",
       "| 6 | 121 | 0 | 110 | 118 | 115 | 547 |  964 |  25 |  44 |  84 | 29 | 689 | 126 | 0.034201 | 20.9995 |  682 |\n",
       "\n"
      ],
      "text/plain": [
       "  M   So Ed  Po1 Po2 LF  M.F  Pop NW  U1  U2 GDP Ineq Prob     Time    y   \n",
       "1 151 1   91  58  56 510  950  33 301 108 41 394 261  0.084602 26.2011  791\n",
       "2 143 0  113 103  95 583 1012  13 102  96 36 557 194  0.029599 25.2999 1635\n",
       "3 142 1   89  45  44 533  969  18 219  94 33 318 250  0.083401 24.3006  578\n",
       "4 136 0  121 149 141 577  994 157  80 102 39 673 167  0.015801 29.9012 1969\n",
       "5 141 0  121 109 101 591  985  18  30  91 20 578 174  0.041399 21.2998 1234\n",
       "6 121 0  110 118 115 547  964  25  44  84 29 689 126  0.034201 20.9995  682"
      ]
     },
     "metadata": {},
     "output_type": "display_data"
    },
    {
     "name": "stdout",
     "output_type": "stream",
     "text": [
      "'data.frame':\t47 obs. of  16 variables:\n",
      " $ M   : int  151 143 142 136 141 121 127 131 157 140 ...\n",
      " $ So  : Factor w/ 2 levels \"0\",\"1\": 2 1 2 1 1 1 2 2 2 1 ...\n",
      " $ Ed  : int  91 113 89 121 121 110 111 109 90 118 ...\n",
      " $ Po1 : int  58 103 45 149 109 118 82 115 65 71 ...\n",
      " $ Po2 : int  56 95 44 141 101 115 79 109 62 68 ...\n",
      " $ LF  : int  510 583 533 577 591 547 519 542 553 632 ...\n",
      " $ M.F : int  950 1012 969 994 985 964 982 969 955 1029 ...\n",
      " $ Pop : int  33 13 18 157 18 25 4 50 39 7 ...\n",
      " $ NW  : int  301 102 219 80 30 44 139 179 286 15 ...\n",
      " $ U1  : int  108 96 94 102 91 84 97 79 81 100 ...\n",
      " $ U2  : int  41 36 33 39 20 29 38 35 28 24 ...\n",
      " $ GDP : int  394 557 318 673 578 689 620 472 421 526 ...\n",
      " $ Ineq: int  261 194 250 167 174 126 168 206 239 174 ...\n",
      " $ Prob: num  0.0846 0.0296 0.0834 0.0158 0.0414 ...\n",
      " $ Time: num  26.2 25.3 24.3 29.9 21.3 ...\n",
      " $ y   : int  791 1635 578 1969 1234 682 963 1555 856 705 ...\n",
      "  So  Ed  NW Ineq\n",
      "1  0 108  94  166\n",
      "2  1  90 286  239\n",
      "3  0 112  79  215\n",
      "4  1  89 219  250\n",
      "5  0 116  26  196\n",
      "6  0 110   6  166\n",
      "  So  Ed  NW Ineq\n",
      "1  1  91 301  261\n",
      "2  0 113 102  194\n",
      "3  1  89 219  250\n",
      "4  0 121  80  167\n",
      "5  0 121  30  174\n",
      "6  0 110  44  126\n"
     ]
    }
   ],
   "source": [
    "# 데이터 복사\n",
    "so_crime <- crime\n",
    "\n",
    "# so를 factor형으로 변환\n",
    "so_crime$So <-as.factor(so_crime$So)\n",
    "head(so_crime)\n",
    "str(so_crime)\n",
    "\n",
    "# 관련데이터만 추출\n",
    "logi_subset <- so_crime  %>% \n",
    "    select(So, Ed, NW, Ineq)\n",
    "\n",
    "# partition to train and test\n",
    "logi_train <- sample_frac(logi_subset, size = 0.7)\n",
    "logi_test <- logi_subset[setdiff(x=1:nrow(logi_subset), y=logi_train),]\n",
    "print(head(logi_train))\n",
    "print(head(logi_test))"
   ]
  },
  {
   "cell_type": "markdown",
   "metadata": {},
   "source": [
    "<pre>\n",
    "로지스틱 회귀를 사용하는 이유는 종속변수 so가 이진변수여서 가능한 것이다. \n",
    "so를 이진변수 즉 factor형으로 바꾸고 로지스틱회귀를 이용하여 분류분석을 시행했다.\n",
    "</pre>"
   ]
  },
  {
   "cell_type": "code",
   "execution_count": 17,
   "metadata": {},
   "outputs": [
    {
     "data": {
      "text/plain": [
       "\n",
       "Call:\n",
       "glm(formula = So ~ Ineq, family = binomial, data = logi_train)\n",
       "\n",
       "Deviance Residuals: \n",
       "    Min       1Q   Median       3Q      Max  \n",
       "-1.5937  -0.4943  -0.2875   0.4511   2.2900  \n",
       "\n",
       "Coefficients:\n",
       "             Estimate Std. Error z value Pr(>|z|)   \n",
       "(Intercept) -11.82635    3.60363  -3.282  0.00103 **\n",
       "Ineq          0.05624    0.01753   3.208  0.00134 **\n",
       "---\n",
       "Signif. codes:  0 '***' 0.001 '**' 0.01 '*' 0.05 '.' 0.1 ' ' 1\n",
       "\n",
       "(Dispersion parameter for binomial family taken to be 1)\n",
       "\n",
       "    Null deviance: 43.262  on 32  degrees of freedom\n",
       "Residual deviance: 24.158  on 31  degrees of freedom\n",
       "AIC: 28.158\n",
       "\n",
       "Number of Fisher Scoring iterations: 5\n"
      ]
     },
     "metadata": {},
     "output_type": "display_data"
    }
   ],
   "source": [
    "so_logistic_Ineq <- glm(So~Ineq, data=logi_train, family = binomial)\n",
    "summary(so_logistic_Ineq)"
   ]
  },
  {
   "cell_type": "code",
   "execution_count": 40,
   "metadata": {},
   "outputs": [
    {
     "name": "stdout",
     "output_type": "stream",
     "text": [
      " (Intercept)         Ineq \n",
      "7.309361e-06 1.057852e+00 \n"
     ]
    },
    {
     "name": "stderr",
     "output_type": "stream",
     "text": [
      "Waiting for profiling to be done...\n",
      "\n"
     ]
    },
    {
     "name": "stdout",
     "output_type": "stream",
     "text": [
      "                   2.5 %      97.5 %\n",
      "(Intercept) 1.222980e-09 0.002827614\n",
      "Ineq        1.027475e+00 1.103330683\n"
     ]
    },
    {
     "data": {
      "text/html": [
       "<table>\n",
       "<caption>A anova: 2 × 5</caption>\n",
       "<thead>\n",
       "\t<tr><th></th><th scope=col>Df</th><th scope=col>Deviance</th><th scope=col>Resid. Df</th><th scope=col>Resid. Dev</th><th scope=col>Pr(&gt;Chi)</th></tr>\n",
       "\t<tr><th></th><th scope=col>&lt;int&gt;</th><th scope=col>&lt;dbl&gt;</th><th scope=col>&lt;int&gt;</th><th scope=col>&lt;dbl&gt;</th><th scope=col>&lt;dbl&gt;</th></tr>\n",
       "</thead>\n",
       "<tbody>\n",
       "\t<tr><th scope=row>NULL</th><td>NA</td><td>      NA</td><td>32</td><td>43.26180</td><td>          NA</td></tr>\n",
       "\t<tr><th scope=row>Ineq</th><td> 1</td><td>19.10341</td><td>31</td><td>24.15839</td><td>1.238237e-05</td></tr>\n",
       "</tbody>\n",
       "</table>\n"
      ],
      "text/latex": [
       "A anova: 2 × 5\n",
       "\\begin{tabular}{r|lllll}\n",
       "  & Df & Deviance & Resid. Df & Resid. Dev & Pr(>Chi)\\\\\n",
       "  & <int> & <dbl> & <int> & <dbl> & <dbl>\\\\\n",
       "\\hline\n",
       "\tNULL & NA &       NA & 32 & 43.26180 &           NA\\\\\n",
       "\tIneq &  1 & 19.10341 & 31 & 24.15839 & 1.238237e-05\\\\\n",
       "\\end{tabular}\n"
      ],
      "text/markdown": [
       "\n",
       "A anova: 2 × 5\n",
       "\n",
       "| <!--/--> | Df &lt;int&gt; | Deviance &lt;dbl&gt; | Resid. Df &lt;int&gt; | Resid. Dev &lt;dbl&gt; | Pr(&gt;Chi) &lt;dbl&gt; |\n",
       "|---|---|---|---|---|---|\n",
       "| NULL | NA |       NA | 32 | 43.26180 |           NA |\n",
       "| Ineq |  1 | 19.10341 | 31 | 24.15839 | 1.238237e-05 |\n",
       "\n"
      ],
      "text/plain": [
       "     Df Deviance Resid. Df Resid. Dev Pr(>Chi)    \n",
       "NULL NA       NA 32        43.26180             NA\n",
       "Ineq  1 19.10341 31        24.15839   1.238237e-05"
      ]
     },
     "metadata": {},
     "output_type": "display_data"
    }
   ],
   "source": [
    "# 오즈비\n",
    "print(exp(so_logistic_Ineq$coefficients))\n",
    "# 오즈비의 95% 신뢰구간\n",
    "print(exp(confint(so_logistic_Ineq)))\n",
    "# 분산분석(카이제곱)\n",
    "anova(so_logistic_Ineq, test = \"Chisq\")"
   ]
  },
  {
   "cell_type": "code",
   "execution_count": 33,
   "metadata": {},
   "outputs": [
    {
     "name": "stderr",
     "output_type": "stream",
     "text": [
      "Setting levels: control = 0, case = 1\n",
      "\n",
      "Setting direction: controls < cases\n",
      "\n"
     ]
    },
    {
     "data": {
      "image/png": "[encoded data removed]",
      "text/plain": [
       "plot without title"
      ]
     },
     "metadata": {
      "image/png": {
       "height": 420,
       "width": 420
      }
     },
     "output_type": "display_data"
    }
   ],
   "source": [
    "library(pROC)\n",
    "Pro_Ineq = predict(so_logistic_Ineq, newdata = logi_test, type = 'response')\n",
    "ROC = roc(logi_subset$So,Pro_Ineq)\n",
    "\n",
    "plot.roc(ROC,   \n",
    "        col=\"royalblue\",  \n",
    "        print.auc=TRUE, \n",
    "        max.auc.polygon=TRUE,   \n",
    "        print.thres=TRUE, print.thres.pch=19, print.thres.col = \"red\",\n",
    "        auc.polygon=TRUE, auc.polygon.col=\"#D1F2EB\")"
   ]
  },
  {
   "cell_type": "code",
   "execution_count": 35,
   "metadata": {},
   "outputs": [
    {
     "data": {
      "text/plain": [
       "\n",
       "Call:\n",
       "glm(formula = So ~ Ed, family = binomial, data = logi_train)\n",
       "\n",
       "Deviance Residuals: \n",
       "    Min       1Q   Median       3Q      Max  \n",
       "-1.7722  -0.6078  -0.2730   0.3430   1.9784  \n",
       "\n",
       "Coefficients:\n",
       "            Estimate Std. Error z value Pr(>|z|)   \n",
       "(Intercept) 21.44642    7.53366   2.847  0.00442 **\n",
       "Ed          -0.20947    0.07128  -2.939  0.00329 **\n",
       "---\n",
       "Signif. codes:  0 '***' 0.001 '**' 0.01 '*' 0.05 '.' 0.1 ' ' 1\n",
       "\n",
       "(Dispersion parameter for binomial family taken to be 1)\n",
       "\n",
       "    Null deviance: 43.262  on 32  degrees of freedom\n",
       "Residual deviance: 23.585  on 31  degrees of freedom\n",
       "AIC: 27.585\n",
       "\n",
       "Number of Fisher Scoring iterations: 5\n"
      ]
     },
     "metadata": {},
     "output_type": "display_data"
    }
   ],
   "source": [
    "so_logistic_Ed <- glm(So~Ed, data=logi_train, family = binomial)\n",
    "summary(so_logistic_Ed)"
   ]
  },
  {
   "cell_type": "code",
   "execution_count": 41,
   "metadata": {},
   "outputs": [
    {
     "name": "stdout",
     "output_type": "stream",
     "text": [
      " (Intercept)           Ed \n",
      "2.060933e+09 8.110136e-01 \n"
     ]
    },
    {
     "name": "stderr",
     "output_type": "stream",
     "text": [
      "Waiting for profiling to be done...\n",
      "\n"
     ]
    },
    {
     "name": "stdout",
     "output_type": "stream",
     "text": [
      "                   2.5 %       97.5 %\n",
      "(Intercept) 1.697709e+04 8.253067e+17\n",
      "Ed          6.729189e-01 9.064416e-01\n"
     ]
    },
    {
     "data": {
      "text/html": [
       "<table>\n",
       "<caption>A anova: 2 × 5</caption>\n",
       "<thead>\n",
       "\t<tr><th></th><th scope=col>Df</th><th scope=col>Deviance</th><th scope=col>Resid. Df</th><th scope=col>Resid. Dev</th><th scope=col>Pr(&gt;Chi)</th></tr>\n",
       "\t<tr><th></th><th scope=col>&lt;int&gt;</th><th scope=col>&lt;dbl&gt;</th><th scope=col>&lt;int&gt;</th><th scope=col>&lt;dbl&gt;</th><th scope=col>&lt;dbl&gt;</th></tr>\n",
       "</thead>\n",
       "<tbody>\n",
       "\t<tr><th scope=row>NULL</th><td>NA</td><td>      NA</td><td>32</td><td>43.26180</td><td>          NA</td></tr>\n",
       "\t<tr><th scope=row>Ed</th><td> 1</td><td>19.67645</td><td>31</td><td>23.58534</td><td>9.172466e-06</td></tr>\n",
       "</tbody>\n",
       "</table>\n"
      ],
      "text/latex": [
       "A anova: 2 × 5\n",
       "\\begin{tabular}{r|lllll}\n",
       "  & Df & Deviance & Resid. Df & Resid. Dev & Pr(>Chi)\\\\\n",
       "  & <int> & <dbl> & <int> & <dbl> & <dbl>\\\\\n",
       "\\hline\n",
       "\tNULL & NA &       NA & 32 & 43.26180 &           NA\\\\\n",
       "\tEd &  1 & 19.67645 & 31 & 23.58534 & 9.172466e-06\\\\\n",
       "\\end{tabular}\n"
      ],
      "text/markdown": [
       "\n",
       "A anova: 2 × 5\n",
       "\n",
       "| <!--/--> | Df &lt;int&gt; | Deviance &lt;dbl&gt; | Resid. Df &lt;int&gt; | Resid. Dev &lt;dbl&gt; | Pr(&gt;Chi) &lt;dbl&gt; |\n",
       "|---|---|---|---|---|---|\n",
       "| NULL | NA |       NA | 32 | 43.26180 |           NA |\n",
       "| Ed |  1 | 19.67645 | 31 | 23.58534 | 9.172466e-06 |\n",
       "\n"
      ],
      "text/plain": [
       "     Df Deviance Resid. Df Resid. Dev Pr(>Chi)    \n",
       "NULL NA       NA 32        43.26180             NA\n",
       "Ed    1 19.67645 31        23.58534   9.172466e-06"
      ]
     },
     "metadata": {},
     "output_type": "display_data"
    }
   ],
   "source": [
    "# 오즈비\n",
    "print(exp(so_logistic_Ed$coefficients))\n",
    "# 오즈비의 95% 신뢰구간\n",
    "print(exp(confint(so_logistic_Ed)))\n",
    "# 분산분석(카이제곱)\n",
    "anova(so_logistic_Ed, test = \"Chisq\")"
   ]
  },
  {
   "cell_type": "code",
   "execution_count": 36,
   "metadata": {},
   "outputs": [
    {
     "name": "stderr",
     "output_type": "stream",
     "text": [
      "Setting levels: control = 0, case = 1\n",
      "\n",
      "Setting direction: controls < cases\n",
      "\n"
     ]
    },
    {
     "data": {
      "image/png": "[encoded data removed]",
      "text/plain": [
       "plot without title"
      ]
     },
     "metadata": {
      "image/png": {
       "height": 420,
       "width": 420
      }
     },
     "output_type": "display_data"
    }
   ],
   "source": [
    "Pro_Ed = predict(so_logistic_Ed, newdata = logi_test, type = 'response')\n",
    "ROC = roc(logi_subset$So,Pro_Ed)\n",
    "\n",
    "plot.roc(ROC,   \n",
    "        col=\"royalblue\",  \n",
    "        print.auc=TRUE, \n",
    "        max.auc.polygon=TRUE,   \n",
    "        print.thres=TRUE, print.thres.pch=19, print.thres.col = \"red\",\n",
    "        auc.polygon=TRUE, auc.polygon.col=\"#D1F2EB\")"
   ]
  },
  {
   "cell_type": "code",
   "execution_count": 23,
   "metadata": {},
   "outputs": [
    {
     "name": "stderr",
     "output_type": "stream",
     "text": [
      "Warning message:\n",
      "\"glm.fit: fitted probabilities numerically 0 or 1 occurred\"\n"
     ]
    },
    {
     "data": {
      "text/plain": [
       "\n",
       "Call:\n",
       "glm(formula = So ~ NW, family = binomial, data = logi_train)\n",
       "\n",
       "Deviance Residuals: \n",
       "     Min        1Q    Median        3Q       Max  \n",
       "-1.12940  -0.02243  -0.00272   0.00001   1.89437  \n",
       "\n",
       "Coefficients:\n",
       "             Estimate Std. Error z value Pr(>|z|)  \n",
       "(Intercept) -14.55422    8.52849  -1.707   0.0879 .\n",
       "NW            0.13623    0.08595   1.585   0.1130  \n",
       "---\n",
       "Signif. codes:  0 '***' 0.001 '**' 0.01 '*' 0.05 '.' 0.1 ' ' 1\n",
       "\n",
       "(Dispersion parameter for binomial family taken to be 1)\n",
       "\n",
       "    Null deviance: 43.2618  on 32  degrees of freedom\n",
       "Residual deviance:  5.9681  on 31  degrees of freedom\n",
       "AIC: 9.9681\n",
       "\n",
       "Number of Fisher Scoring iterations: 10\n"
      ]
     },
     "metadata": {},
     "output_type": "display_data"
    }
   ],
   "source": [
    "so_logistic_NW <- glm(So~NW, data=logi_train, family = binomial)\n",
    "summary(so_logistic_NW)"
   ]
  },
  {
   "cell_type": "code",
   "execution_count": 42,
   "metadata": {},
   "outputs": [
    {
     "name": "stdout",
     "output_type": "stream",
     "text": [
      " (Intercept)           NW \n",
      "4.777281e-07 1.145944e+00 \n"
     ]
    },
    {
     "name": "stderr",
     "output_type": "stream",
     "text": [
      "Waiting for profiling to be done...\n",
      "\n",
      "Warning message:\n",
      "\"glm.fit: fitted probabilities numerically 0 or 1 occurred\"\n",
      "Warning message:\n",
      "\"glm.fit: fitted probabilities numerically 0 or 1 occurred\"\n",
      "Warning message:\n",
      "\"glm.fit: fitted probabilities numerically 0 or 1 occurred\"\n",
      "Warning message:\n",
      "\"glm.fit: fitted probabilities numerically 0 or 1 occurred\"\n",
      "Warning message:\n",
      "\"glm.fit: fitted probabilities numerically 0 or 1 occurred\"\n",
      "Warning message:\n",
      "\"glm.fit: fitted probabilities numerically 0 or 1 occurred\"\n",
      "Warning message:\n",
      "\"glm.fit: fitted probabilities numerically 0 or 1 occurred\"\n",
      "Warning message:\n",
      "\"glm.fit: fitted probabilities numerically 0 or 1 occurred\"\n",
      "Warning message:\n",
      "\"glm.fit: fitted probabilities numerically 0 or 1 occurred\"\n",
      "Warning message:\n",
      "\"glm.fit: fitted probabilities numerically 0 or 1 occurred\"\n",
      "Warning message:\n",
      "\"glm.fit: fitted probabilities numerically 0 or 1 occurred\"\n",
      "Warning message:\n",
      "\"glm.fit: fitted probabilities numerically 0 or 1 occurred\"\n",
      "Warning message:\n",
      "\"glm.fit: fitted probabilities numerically 0 or 1 occurred\"\n",
      "Warning message:\n",
      "\"glm.fit: fitted probabilities numerically 0 or 1 occurred\"\n",
      "Warning message:\n",
      "\"glm.fit: fitted probabilities numerically 0 or 1 occurred\"\n",
      "Warning message:\n",
      "\"glm.fit: fitted probabilities numerically 0 or 1 occurred\"\n",
      "Warning message:\n",
      "\"glm.fit: fitted probabilities numerically 0 or 1 occurred\"\n",
      "Warning message:\n",
      "\"glm.fit: fitted probabilities numerically 0 or 1 occurred\"\n"
     ]
    },
    {
     "name": "stdout",
     "output_type": "stream",
     "text": [
      "                   2.5 %      97.5 %\n",
      "(Intercept) 2.175441e-19 0.006957007\n",
      "NW          1.043934e+00 1.524412861\n"
     ]
    },
    {
     "data": {
      "text/html": [
       "<table>\n",
       "<caption>A anova: 2 × 5</caption>\n",
       "<thead>\n",
       "\t<tr><th></th><th scope=col>Df</th><th scope=col>Deviance</th><th scope=col>Resid. Df</th><th scope=col>Resid. Dev</th><th scope=col>Pr(&gt;Chi)</th></tr>\n",
       "\t<tr><th></th><th scope=col>&lt;int&gt;</th><th scope=col>&lt;dbl&gt;</th><th scope=col>&lt;int&gt;</th><th scope=col>&lt;dbl&gt;</th><th scope=col>&lt;dbl&gt;</th></tr>\n",
       "</thead>\n",
       "<tbody>\n",
       "\t<tr><th scope=row>NULL</th><td>NA</td><td>      NA</td><td>32</td><td>43.261797</td><td>          NA</td></tr>\n",
       "\t<tr><th scope=row>NW</th><td> 1</td><td>37.29371</td><td>31</td><td> 5.968086</td><td>1.016118e-09</td></tr>\n",
       "</tbody>\n",
       "</table>\n"
      ],
      "text/latex": [
       "A anova: 2 × 5\n",
       "\\begin{tabular}{r|lllll}\n",
       "  & Df & Deviance & Resid. Df & Resid. Dev & Pr(>Chi)\\\\\n",
       "  & <int> & <dbl> & <int> & <dbl> & <dbl>\\\\\n",
       "\\hline\n",
       "\tNULL & NA &       NA & 32 & 43.261797 &           NA\\\\\n",
       "\tNW &  1 & 37.29371 & 31 &  5.968086 & 1.016118e-09\\\\\n",
       "\\end{tabular}\n"
      ],
      "text/markdown": [
       "\n",
       "A anova: 2 × 5\n",
       "\n",
       "| <!--/--> | Df &lt;int&gt; | Deviance &lt;dbl&gt; | Resid. Df &lt;int&gt; | Resid. Dev &lt;dbl&gt; | Pr(&gt;Chi) &lt;dbl&gt; |\n",
       "|---|---|---|---|---|---|\n",
       "| NULL | NA |       NA | 32 | 43.261797 |           NA |\n",
       "| NW |  1 | 37.29371 | 31 |  5.968086 | 1.016118e-09 |\n",
       "\n"
      ],
      "text/plain": [
       "     Df Deviance Resid. Df Resid. Dev Pr(>Chi)    \n",
       "NULL NA       NA 32        43.261797            NA\n",
       "NW    1 37.29371 31         5.968086  1.016118e-09"
      ]
     },
     "metadata": {},
     "output_type": "display_data"
    }
   ],
   "source": [
    "# 오즈비\n",
    "print(exp(so_logistic_NW$coefficients))\n",
    "# 오즈비의 95% 신뢰구간\n",
    "print(exp(confint(so_logistic_NW)))\n",
    "# 분산분석(카이제곱)\n",
    "anova(so_logistic_NW, test = \"Chisq\")"
   ]
  },
  {
   "cell_type": "code",
   "execution_count": 37,
   "metadata": {},
   "outputs": [
    {
     "name": "stderr",
     "output_type": "stream",
     "text": [
      "Setting levels: control = 0, case = 1\n",
      "\n",
      "Setting direction: controls < cases\n",
      "\n"
     ]
    },
    {
     "data": {
      "image/png": "[encoded data removed]",
      "text/plain": [
       "plot without title"
      ]
     },
     "metadata": {
      "image/png": {
       "height": 420,
       "width": 420
      }
     },
     "output_type": "display_data"
    }
   ],
   "source": [
    "Pro_NW = predict(so_logistic_NW, newdata = logi_test, type = 'response')\n",
    "ROC = roc(logi_subset$So,Pro_NW)\n",
    "\n",
    "plot.roc(ROC,   \n",
    "        col=\"royalblue\",  \n",
    "        print.auc=TRUE, \n",
    "        max.auc.polygon=TRUE,   \n",
    "        print.thres=TRUE, print.thres.pch=19, print.thres.col = \"red\",\n",
    "        auc.polygon=TRUE, auc.polygon.col=\"#D1F2EB\")"
   ]
  },
  {
   "cell_type": "code",
   "execution_count": 30,
   "metadata": {},
   "outputs": [
    {
     "name": "stderr",
     "output_type": "stream",
     "text": [
      "Warning message:\n",
      "\"glm.fit: algorithm did not converge\"\n",
      "Warning message:\n",
      "\"glm.fit: fitted probabilities numerically 0 or 1 occurred\"\n"
     ]
    },
    {
     "data": {
      "text/plain": [
       "\n",
       "Call:\n",
       "glm(formula = So ~ Ineq + Ed + NW, family = binomial, data = logi_train)\n",
       "\n",
       "Deviance Residuals: \n",
       "       Min          1Q      Median          3Q         Max  \n",
       "-5.497e-05  -2.100e-08  -2.100e-08   2.100e-08   6.066e-05  \n",
       "\n",
       "Coefficients:\n",
       "              Estimate Std. Error z value Pr(>|z|)\n",
       "(Intercept)   -899.423 511992.023  -0.002    0.999\n",
       "Ineq             1.719   1071.466   0.002    0.999\n",
       "Ed               3.054   2420.498   0.001    0.999\n",
       "NW               2.120   1086.375   0.002    0.998\n",
       "\n",
       "(Dispersion parameter for binomial family taken to be 1)\n",
       "\n",
       "    Null deviance: 4.3262e+01  on 32  degrees of freedom\n",
       "Residual deviance: 8.4187e-09  on 29  degrees of freedom\n",
       "AIC: 8\n",
       "\n",
       "Number of Fisher Scoring iterations: 25\n"
      ]
     },
     "metadata": {},
     "output_type": "display_data"
    }
   ],
   "source": [
    "so_logistic_multi <- glm(So~Ineq+Ed+NW, data=logi_train, family=binomial)\n",
    "summary(so_logistic_multi)"
   ]
  },
  {
   "cell_type": "code",
   "execution_count": 43,
   "metadata": {},
   "outputs": [
    {
     "name": "stdout",
     "output_type": "stream",
     "text": [
      "(Intercept)        Ineq          Ed          NW \n",
      "   0.000000    5.577476   21.208547    8.332323 \n"
     ]
    },
    {
     "name": "stderr",
     "output_type": "stream",
     "text": [
      "Waiting for profiling to be done...\n",
      "\n",
      "Warning message:\n",
      "\"glm.fit: fitted probabilities numerically 0 or 1 occurred\"\n",
      "Warning message:\n",
      "\"glm.fit: fitted probabilities numerically 0 or 1 occurred\"\n",
      "Warning message:\n",
      "\"glm.fit: fitted probabilities numerically 0 or 1 occurred\"\n",
      "Warning message:\n",
      "\"glm.fit: fitted probabilities numerically 0 or 1 occurred\"\n",
      "Warning message:\n",
      "\"glm.fit: fitted probabilities numerically 0 or 1 occurred\"\n",
      "Warning message:\n",
      "\"glm.fit: fitted probabilities numerically 0 or 1 occurred\"\n",
      "Warning message:\n",
      "\"glm.fit: fitted probabilities numerically 0 or 1 occurred\"\n",
      "Warning message:\n",
      "\"glm.fit: fitted probabilities numerically 0 or 1 occurred\"\n",
      "Warning message:\n",
      "\"glm.fit: fitted probabilities numerically 0 or 1 occurred\"\n"
     ]
    },
    {
     "name": "stdout",
     "output_type": "stream",
     "text": [
      "                   2.5 %        97.5 %\n",
      "(Intercept) 0.000000e+00           Inf\n",
      "Ineq        2.993855e-33  5.503916e+35\n",
      "Ed          1.080889e-95 1.778502e+106\n",
      "NW          3.580674e-71 2.974668e+299\n"
     ]
    },
    {
     "data": {
      "text/html": [
       "<table>\n",
       "<caption>A anova: 4 × 5</caption>\n",
       "<thead>\n",
       "\t<tr><th></th><th scope=col>Df</th><th scope=col>Deviance</th><th scope=col>Resid. Df</th><th scope=col>Resid. Dev</th><th scope=col>Pr(&gt;Chi)</th></tr>\n",
       "\t<tr><th></th><th scope=col>&lt;int&gt;</th><th scope=col>&lt;dbl&gt;</th><th scope=col>&lt;int&gt;</th><th scope=col>&lt;dbl&gt;</th><th scope=col>&lt;dbl&gt;</th></tr>\n",
       "</thead>\n",
       "<tbody>\n",
       "\t<tr><th scope=row>NULL</th><td>NA</td><td>       NA</td><td>32</td><td>4.326180e+01</td><td>          NA</td></tr>\n",
       "\t<tr><th scope=row>Ineq</th><td> 1</td><td>19.103406</td><td>31</td><td>2.415839e+01</td><td>1.238237e-05</td></tr>\n",
       "\t<tr><th scope=row>Ed</th><td> 1</td><td> 3.221271</td><td>30</td><td>2.093712e+01</td><td>7.268719e-02</td></tr>\n",
       "\t<tr><th scope=row>NW</th><td> 1</td><td>20.937120</td><td>29</td><td>8.418700e-09</td><td>4.746081e-06</td></tr>\n",
       "</tbody>\n",
       "</table>\n"
      ],
      "text/latex": [
       "A anova: 4 × 5\n",
       "\\begin{tabular}{r|lllll}\n",
       "  & Df & Deviance & Resid. Df & Resid. Dev & Pr(>Chi)\\\\\n",
       "  & <int> & <dbl> & <int> & <dbl> & <dbl>\\\\\n",
       "\\hline\n",
       "\tNULL & NA &        NA & 32 & 4.326180e+01 &           NA\\\\\n",
       "\tIneq &  1 & 19.103406 & 31 & 2.415839e+01 & 1.238237e-05\\\\\n",
       "\tEd &  1 &  3.221271 & 30 & 2.093712e+01 & 7.268719e-02\\\\\n",
       "\tNW &  1 & 20.937120 & 29 & 8.418700e-09 & 4.746081e-06\\\\\n",
       "\\end{tabular}\n"
      ],
      "text/markdown": [
       "\n",
       "A anova: 4 × 5\n",
       "\n",
       "| <!--/--> | Df &lt;int&gt; | Deviance &lt;dbl&gt; | Resid. Df &lt;int&gt; | Resid. Dev &lt;dbl&gt; | Pr(&gt;Chi) &lt;dbl&gt; |\n",
       "|---|---|---|---|---|---|\n",
       "| NULL | NA |        NA | 32 | 4.326180e+01 |           NA |\n",
       "| Ineq |  1 | 19.103406 | 31 | 2.415839e+01 | 1.238237e-05 |\n",
       "| Ed |  1 |  3.221271 | 30 | 2.093712e+01 | 7.268719e-02 |\n",
       "| NW |  1 | 20.937120 | 29 | 8.418700e-09 | 4.746081e-06 |\n",
       "\n"
      ],
      "text/plain": [
       "     Df Deviance  Resid. Df Resid. Dev   Pr(>Chi)    \n",
       "NULL NA        NA 32        4.326180e+01           NA\n",
       "Ineq  1 19.103406 31        2.415839e+01 1.238237e-05\n",
       "Ed    1  3.221271 30        2.093712e+01 7.268719e-02\n",
       "NW    1 20.937120 29        8.418700e-09 4.746081e-06"
      ]
     },
     "metadata": {},
     "output_type": "display_data"
    }
   ],
   "source": [
    "# 오즈비\n",
    "print(exp(so_logistic_multi$coefficients))\n",
    "# 오즈비의 95% 신뢰구간\n",
    "print(exp(confint(so_logistic_multi)))\n",
    "# 분산분석(카이제곱)\n",
    "anova(so_logistic_multi, test = \"Chisq\")"
   ]
  },
  {
   "cell_type": "code",
   "execution_count": 38,
   "metadata": {},
   "outputs": [
    {
     "name": "stderr",
     "output_type": "stream",
     "text": [
      "Setting levels: control = 0, case = 1\n",
      "\n",
      "Setting direction: controls < cases\n",
      "\n"
     ]
    },
    {
     "data": {
      "image/png": "[encoded data removed]",
      "text/plain": [
       "plot without title"
      ]
     },
     "metadata": {
      "image/png": {
       "height": 420,
       "width": 420
      }
     },
     "output_type": "display_data"
    }
   ],
   "source": [
    "Pro_multi = predict(so_logistic_multi, newdata = logi_test, type = 'response')\n",
    "ROC = roc(logi_subset$So,Pro_multi)\n",
    "\n",
    "plot.roc(ROC,   \n",
    "        col=\"royalblue\",  \n",
    "        print.auc=TRUE, \n",
    "        max.auc.polygon=TRUE,   \n",
    "        print.thres=TRUE, print.thres.pch=19, print.thres.col = \"red\",\n",
    "        auc.polygon=TRUE, auc.polygon.col=\"#D1F2EB\")"
   ]
  },
  {
   "cell_type": "markdown",
   "metadata": {},
   "source": [
    "### 2.2 경찰비용에 따른 GDP 분류분석"
   ]
  },
  {
   "cell_type": "code",
   "execution_count": null,
   "metadata": {},
   "outputs": [],
   "source": []
  }
 ],
 "metadata": {
  "kernelspec": {
   "display_name": "R",
   "language": "R",
   "name": "ir"
  },
  "language_info": {
   "codemirror_mode": "r",
   "file_extension": ".r",
   "mimetype": "text/x-r-source",
   "name": "R",
   "pygments_lexer": "r",
   "version": "3.6.1"
  }
 },
 "nbformat": 4,
 "nbformat_minor": 4
}
